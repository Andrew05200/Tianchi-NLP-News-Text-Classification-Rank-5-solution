{
 "cells": [
  {
   "cell_type": "code",
   "execution_count": 1,
   "metadata": {
    "ExecuteTime": {
     "end_time": "2020-08-27T18:52:17.311905Z",
     "start_time": "2020-08-27T18:52:17.082655Z"
    }
   },
   "outputs": [],
   "source": [
    "import pandas as pd\n",
    "import numpy as np\n",
    "\n",
    "from IPython.core.interactiveshell import InteractiveShell\n",
    "InteractiveShell.ast_node_interactivity = \"all\""
   ]
  },
  {
   "cell_type": "code",
   "execution_count": 3,
   "metadata": {
    "ExecuteTime": {
     "end_time": "2020-08-27T18:52:21.024687Z",
     "start_time": "2020-08-27T18:52:19.261649Z"
    }
   },
   "outputs": [],
   "source": [
    "test_df = pd.read_csv('./test_a.csv', sep='\\t', nrows=None)"
   ]
  },
  {
   "cell_type": "code",
   "execution_count": 4,
   "metadata": {
    "ExecuteTime": {
     "end_time": "2020-08-27T18:52:25.223571Z",
     "start_time": "2020-08-27T18:52:25.202717Z"
    }
   },
   "outputs": [
    {
     "data": {
      "text/html": [
       "<div>\n",
       "<style scoped>\n",
       "    .dataframe tbody tr th:only-of-type {\n",
       "        vertical-align: middle;\n",
       "    }\n",
       "\n",
       "    .dataframe tbody tr th {\n",
       "        vertical-align: top;\n",
       "    }\n",
       "\n",
       "    .dataframe thead th {\n",
       "        text-align: right;\n",
       "    }\n",
       "</style>\n",
       "<table border=\"1\" class=\"dataframe\">\n",
       "  <thead>\n",
       "    <tr style=\"text-align: right;\">\n",
       "      <th></th>\n",
       "      <th>text</th>\n",
       "    </tr>\n",
       "  </thead>\n",
       "  <tbody>\n",
       "    <tr>\n",
       "      <th>0</th>\n",
       "      <td>5399 3117 1070 4321 4568 2621 5466 3772 4516 2...</td>\n",
       "    </tr>\n",
       "    <tr>\n",
       "      <th>1</th>\n",
       "      <td>2491 4109 1757 7539 648 3695 3038 4490 23 7019...</td>\n",
       "    </tr>\n",
       "    <tr>\n",
       "      <th>2</th>\n",
       "      <td>2673 5076 6835 2835 5948 5677 3247 4124 2465 5...</td>\n",
       "    </tr>\n",
       "    <tr>\n",
       "      <th>3</th>\n",
       "      <td>4562 4893 2210 4761 3659 1324 2595 5949 4583 2...</td>\n",
       "    </tr>\n",
       "    <tr>\n",
       "      <th>4</th>\n",
       "      <td>4269 7134 2614 1724 4464 1324 3370 3370 2106 2...</td>\n",
       "    </tr>\n",
       "  </tbody>\n",
       "</table>\n",
       "</div>"
      ],
      "text/plain": [
       "                                                text\n",
       "0  5399 3117 1070 4321 4568 2621 5466 3772 4516 2...\n",
       "1  2491 4109 1757 7539 648 3695 3038 4490 23 7019...\n",
       "2  2673 5076 6835 2835 5948 5677 3247 4124 2465 5...\n",
       "3  4562 4893 2210 4761 3659 1324 2595 5949 4583 2...\n",
       "4  4269 7134 2614 1724 4464 1324 3370 3370 2106 2..."
      ]
     },
     "execution_count": 4,
     "metadata": {},
     "output_type": "execute_result"
    }
   ],
   "source": [
    "test_df.head()"
   ]
  },
  {
   "cell_type": "code",
   "execution_count": 5,
   "metadata": {
    "ExecuteTime": {
     "end_time": "2020-08-27T18:52:27.258269Z",
     "start_time": "2020-08-27T18:52:27.241927Z"
    }
   },
   "outputs": [],
   "source": [
    "#增加索引列\n",
    "test_df['id'] = range(len(test_df))"
   ]
  },
  {
   "cell_type": "code",
   "execution_count": 6,
   "metadata": {
    "ExecuteTime": {
     "end_time": "2020-08-27T18:52:30.899028Z",
     "start_time": "2020-08-27T18:52:30.883506Z"
    }
   },
   "outputs": [
    {
     "data": {
      "text/html": [
       "<div>\n",
       "<style scoped>\n",
       "    .dataframe tbody tr th:only-of-type {\n",
       "        vertical-align: middle;\n",
       "    }\n",
       "\n",
       "    .dataframe tbody tr th {\n",
       "        vertical-align: top;\n",
       "    }\n",
       "\n",
       "    .dataframe thead th {\n",
       "        text-align: right;\n",
       "    }\n",
       "</style>\n",
       "<table border=\"1\" class=\"dataframe\">\n",
       "  <thead>\n",
       "    <tr style=\"text-align: right;\">\n",
       "      <th></th>\n",
       "      <th>text</th>\n",
       "      <th>id</th>\n",
       "    </tr>\n",
       "  </thead>\n",
       "  <tbody>\n",
       "    <tr>\n",
       "      <th>0</th>\n",
       "      <td>5399 3117 1070 4321 4568 2621 5466 3772 4516 2...</td>\n",
       "      <td>0</td>\n",
       "    </tr>\n",
       "    <tr>\n",
       "      <th>1</th>\n",
       "      <td>2491 4109 1757 7539 648 3695 3038 4490 23 7019...</td>\n",
       "      <td>1</td>\n",
       "    </tr>\n",
       "    <tr>\n",
       "      <th>2</th>\n",
       "      <td>2673 5076 6835 2835 5948 5677 3247 4124 2465 5...</td>\n",
       "      <td>2</td>\n",
       "    </tr>\n",
       "    <tr>\n",
       "      <th>3</th>\n",
       "      <td>4562 4893 2210 4761 3659 1324 2595 5949 4583 2...</td>\n",
       "      <td>3</td>\n",
       "    </tr>\n",
       "    <tr>\n",
       "      <th>4</th>\n",
       "      <td>4269 7134 2614 1724 4464 1324 3370 3370 2106 2...</td>\n",
       "      <td>4</td>\n",
       "    </tr>\n",
       "    <tr>\n",
       "      <th>...</th>\n",
       "      <td>...</td>\n",
       "      <td>...</td>\n",
       "    </tr>\n",
       "    <tr>\n",
       "      <th>49995</th>\n",
       "      <td>3725 4498 2282 1647 6293 4245 4498 3615 1141 2...</td>\n",
       "      <td>49995</td>\n",
       "    </tr>\n",
       "    <tr>\n",
       "      <th>49996</th>\n",
       "      <td>4811 465 3800 1394 3038 2376 2327 5165 3070 57...</td>\n",
       "      <td>49996</td>\n",
       "    </tr>\n",
       "    <tr>\n",
       "      <th>49997</th>\n",
       "      <td>5338 1952 3117 4109 299 6656 6654 3792 6831 21...</td>\n",
       "      <td>49997</td>\n",
       "    </tr>\n",
       "    <tr>\n",
       "      <th>49998</th>\n",
       "      <td>893 3469 5775 584 2490 4223 6569 6663 2124 168...</td>\n",
       "      <td>49998</td>\n",
       "    </tr>\n",
       "    <tr>\n",
       "      <th>49999</th>\n",
       "      <td>2400 4409 4412 2210 5122 4464 7186 2465 1327 9...</td>\n",
       "      <td>49999</td>\n",
       "    </tr>\n",
       "  </tbody>\n",
       "</table>\n",
       "<p>50000 rows × 2 columns</p>\n",
       "</div>"
      ],
      "text/plain": [
       "                                                    text     id\n",
       "0      5399 3117 1070 4321 4568 2621 5466 3772 4516 2...      0\n",
       "1      2491 4109 1757 7539 648 3695 3038 4490 23 7019...      1\n",
       "2      2673 5076 6835 2835 5948 5677 3247 4124 2465 5...      2\n",
       "3      4562 4893 2210 4761 3659 1324 2595 5949 4583 2...      3\n",
       "4      4269 7134 2614 1724 4464 1324 3370 3370 2106 2...      4\n",
       "...                                                  ...    ...\n",
       "49995  3725 4498 2282 1647 6293 4245 4498 3615 1141 2...  49995\n",
       "49996  4811 465 3800 1394 3038 2376 2327 5165 3070 57...  49996\n",
       "49997  5338 1952 3117 4109 299 6656 6654 3792 6831 21...  49997\n",
       "49998  893 3469 5775 584 2490 4223 6569 6663 2124 168...  49998\n",
       "49999  2400 4409 4412 2210 5122 4464 7186 2465 1327 9...  49999\n",
       "\n",
       "[50000 rows x 2 columns]"
      ]
     },
     "execution_count": 6,
     "metadata": {},
     "output_type": "execute_result"
    }
   ],
   "source": [
    "test_df"
   ]
  },
  {
   "cell_type": "code",
   "execution_count": 7,
   "metadata": {
    "ExecuteTime": {
     "end_time": "2020-08-27T18:52:45.734563Z",
     "start_time": "2020-08-27T18:52:44.168656Z"
    }
   },
   "outputs": [],
   "source": [
    "# 统计每类新闻字符个数\n",
    "test_df['text_len'] = test_df['text'].apply(lambda x: len(x.split(' ')))"
   ]
  },
  {
   "cell_type": "code",
   "execution_count": 8,
   "metadata": {
    "ExecuteTime": {
     "end_time": "2020-08-27T18:52:46.800871Z",
     "start_time": "2020-08-27T18:52:46.783144Z"
    }
   },
   "outputs": [
    {
     "data": {
      "text/html": [
       "<div>\n",
       "<style scoped>\n",
       "    .dataframe tbody tr th:only-of-type {\n",
       "        vertical-align: middle;\n",
       "    }\n",
       "\n",
       "    .dataframe tbody tr th {\n",
       "        vertical-align: top;\n",
       "    }\n",
       "\n",
       "    .dataframe thead th {\n",
       "        text-align: right;\n",
       "    }\n",
       "</style>\n",
       "<table border=\"1\" class=\"dataframe\">\n",
       "  <thead>\n",
       "    <tr style=\"text-align: right;\">\n",
       "      <th></th>\n",
       "      <th>text</th>\n",
       "      <th>id</th>\n",
       "      <th>text_len</th>\n",
       "    </tr>\n",
       "  </thead>\n",
       "  <tbody>\n",
       "    <tr>\n",
       "      <th>0</th>\n",
       "      <td>5399 3117 1070 4321 4568 2621 5466 3772 4516 2...</td>\n",
       "      <td>0</td>\n",
       "      <td>607</td>\n",
       "    </tr>\n",
       "    <tr>\n",
       "      <th>1</th>\n",
       "      <td>2491 4109 1757 7539 648 3695 3038 4490 23 7019...</td>\n",
       "      <td>1</td>\n",
       "      <td>1861</td>\n",
       "    </tr>\n",
       "    <tr>\n",
       "      <th>2</th>\n",
       "      <td>2673 5076 6835 2835 5948 5677 3247 4124 2465 5...</td>\n",
       "      <td>2</td>\n",
       "      <td>901</td>\n",
       "    </tr>\n",
       "    <tr>\n",
       "      <th>3</th>\n",
       "      <td>4562 4893 2210 4761 3659 1324 2595 5949 4583 2...</td>\n",
       "      <td>3</td>\n",
       "      <td>3786</td>\n",
       "    </tr>\n",
       "    <tr>\n",
       "      <th>4</th>\n",
       "      <td>4269 7134 2614 1724 4464 1324 3370 3370 2106 2...</td>\n",
       "      <td>4</td>\n",
       "      <td>316</td>\n",
       "    </tr>\n",
       "    <tr>\n",
       "      <th>...</th>\n",
       "      <td>...</td>\n",
       "      <td>...</td>\n",
       "      <td>...</td>\n",
       "    </tr>\n",
       "    <tr>\n",
       "      <th>49995</th>\n",
       "      <td>3725 4498 2282 1647 6293 4245 4498 3615 1141 2...</td>\n",
       "      <td>49995</td>\n",
       "      <td>275</td>\n",
       "    </tr>\n",
       "    <tr>\n",
       "      <th>49996</th>\n",
       "      <td>4811 465 3800 1394 3038 2376 2327 5165 3070 57...</td>\n",
       "      <td>49996</td>\n",
       "      <td>858</td>\n",
       "    </tr>\n",
       "    <tr>\n",
       "      <th>49997</th>\n",
       "      <td>5338 1952 3117 4109 299 6656 6654 3792 6831 21...</td>\n",
       "      <td>49997</td>\n",
       "      <td>299</td>\n",
       "    </tr>\n",
       "    <tr>\n",
       "      <th>49998</th>\n",
       "      <td>893 3469 5775 584 2490 4223 6569 6663 2124 168...</td>\n",
       "      <td>49998</td>\n",
       "      <td>470</td>\n",
       "    </tr>\n",
       "    <tr>\n",
       "      <th>49999</th>\n",
       "      <td>2400 4409 4412 2210 5122 4464 7186 2465 1327 9...</td>\n",
       "      <td>49999</td>\n",
       "      <td>245</td>\n",
       "    </tr>\n",
       "  </tbody>\n",
       "</table>\n",
       "<p>50000 rows × 3 columns</p>\n",
       "</div>"
      ],
      "text/plain": [
       "                                                    text     id  text_len\n",
       "0      5399 3117 1070 4321 4568 2621 5466 3772 4516 2...      0       607\n",
       "1      2491 4109 1757 7539 648 3695 3038 4490 23 7019...      1      1861\n",
       "2      2673 5076 6835 2835 5948 5677 3247 4124 2465 5...      2       901\n",
       "3      4562 4893 2210 4761 3659 1324 2595 5949 4583 2...      3      3786\n",
       "4      4269 7134 2614 1724 4464 1324 3370 3370 2106 2...      4       316\n",
       "...                                                  ...    ...       ...\n",
       "49995  3725 4498 2282 1647 6293 4245 4498 3615 1141 2...  49995       275\n",
       "49996  4811 465 3800 1394 3038 2376 2327 5165 3070 57...  49996       858\n",
       "49997  5338 1952 3117 4109 299 6656 6654 3792 6831 21...  49997       299\n",
       "49998  893 3469 5775 584 2490 4223 6569 6663 2124 168...  49998       470\n",
       "49999  2400 4409 4412 2210 5122 4464 7186 2465 1327 9...  49999       245\n",
       "\n",
       "[50000 rows x 3 columns]"
      ]
     },
     "execution_count": 8,
     "metadata": {},
     "output_type": "execute_result"
    }
   ],
   "source": [
    "test_df"
   ]
  },
  {
   "cell_type": "code",
   "execution_count": 9,
   "metadata": {
    "ExecuteTime": {
     "end_time": "2020-08-27T18:52:50.457370Z",
     "start_time": "2020-08-27T18:52:50.439225Z"
    }
   },
   "outputs": [
    {
     "data": {
      "text/plain": [
       "count    50000.000000\n",
       "mean       909.844960\n",
       "std       1032.313375\n",
       "min         14.000000\n",
       "25%        370.000000\n",
       "50%        676.000000\n",
       "75%       1133.000000\n",
       "max      41861.000000\n",
       "Name: text_len, dtype: float64"
      ]
     },
     "execution_count": 9,
     "metadata": {},
     "output_type": "execute_result"
    }
   ],
   "source": [
    "test_df['text_len'].describe()"
   ]
  },
  {
   "cell_type": "code",
   "execution_count": 10,
   "metadata": {
    "ExecuteTime": {
     "end_time": "2020-08-27T18:52:51.846629Z",
     "start_time": "2020-08-27T18:52:51.839090Z"
    }
   },
   "outputs": [],
   "source": [
    "test_df_cp = test_df.copy()"
   ]
  },
  {
   "cell_type": "code",
   "execution_count": 11,
   "metadata": {
    "ExecuteTime": {
     "end_time": "2020-08-27T18:52:52.746342Z",
     "start_time": "2020-08-27T18:52:52.726326Z"
    }
   },
   "outputs": [
    {
     "data": {
      "text/html": [
       "<div>\n",
       "<style scoped>\n",
       "    .dataframe tbody tr th:only-of-type {\n",
       "        vertical-align: middle;\n",
       "    }\n",
       "\n",
       "    .dataframe tbody tr th {\n",
       "        vertical-align: top;\n",
       "    }\n",
       "\n",
       "    .dataframe thead th {\n",
       "        text-align: right;\n",
       "    }\n",
       "</style>\n",
       "<table border=\"1\" class=\"dataframe\">\n",
       "  <thead>\n",
       "    <tr style=\"text-align: right;\">\n",
       "      <th></th>\n",
       "      <th>text</th>\n",
       "      <th>id</th>\n",
       "      <th>text_len</th>\n",
       "    </tr>\n",
       "  </thead>\n",
       "  <tbody>\n",
       "    <tr>\n",
       "      <th>0</th>\n",
       "      <td>5399 3117 1070 4321 4568 2621 5466 3772 4516 2...</td>\n",
       "      <td>0</td>\n",
       "      <td>607</td>\n",
       "    </tr>\n",
       "    <tr>\n",
       "      <th>1</th>\n",
       "      <td>2491 4109 1757 7539 648 3695 3038 4490 23 7019...</td>\n",
       "      <td>1</td>\n",
       "      <td>1861</td>\n",
       "    </tr>\n",
       "    <tr>\n",
       "      <th>2</th>\n",
       "      <td>2673 5076 6835 2835 5948 5677 3247 4124 2465 5...</td>\n",
       "      <td>2</td>\n",
       "      <td>901</td>\n",
       "    </tr>\n",
       "    <tr>\n",
       "      <th>3</th>\n",
       "      <td>4562 4893 2210 4761 3659 1324 2595 5949 4583 2...</td>\n",
       "      <td>3</td>\n",
       "      <td>3786</td>\n",
       "    </tr>\n",
       "    <tr>\n",
       "      <th>4</th>\n",
       "      <td>4269 7134 2614 1724 4464 1324 3370 3370 2106 2...</td>\n",
       "      <td>4</td>\n",
       "      <td>316</td>\n",
       "    </tr>\n",
       "    <tr>\n",
       "      <th>...</th>\n",
       "      <td>...</td>\n",
       "      <td>...</td>\n",
       "      <td>...</td>\n",
       "    </tr>\n",
       "    <tr>\n",
       "      <th>49995</th>\n",
       "      <td>3725 4498 2282 1647 6293 4245 4498 3615 1141 2...</td>\n",
       "      <td>49995</td>\n",
       "      <td>275</td>\n",
       "    </tr>\n",
       "    <tr>\n",
       "      <th>49996</th>\n",
       "      <td>4811 465 3800 1394 3038 2376 2327 5165 3070 57...</td>\n",
       "      <td>49996</td>\n",
       "      <td>858</td>\n",
       "    </tr>\n",
       "    <tr>\n",
       "      <th>49997</th>\n",
       "      <td>5338 1952 3117 4109 299 6656 6654 3792 6831 21...</td>\n",
       "      <td>49997</td>\n",
       "      <td>299</td>\n",
       "    </tr>\n",
       "    <tr>\n",
       "      <th>49998</th>\n",
       "      <td>893 3469 5775 584 2490 4223 6569 6663 2124 168...</td>\n",
       "      <td>49998</td>\n",
       "      <td>470</td>\n",
       "    </tr>\n",
       "    <tr>\n",
       "      <th>49999</th>\n",
       "      <td>2400 4409 4412 2210 5122 4464 7186 2465 1327 9...</td>\n",
       "      <td>49999</td>\n",
       "      <td>245</td>\n",
       "    </tr>\n",
       "  </tbody>\n",
       "</table>\n",
       "<p>50000 rows × 3 columns</p>\n",
       "</div>"
      ],
      "text/plain": [
       "                                                    text     id  text_len\n",
       "0      5399 3117 1070 4321 4568 2621 5466 3772 4516 2...      0       607\n",
       "1      2491 4109 1757 7539 648 3695 3038 4490 23 7019...      1      1861\n",
       "2      2673 5076 6835 2835 5948 5677 3247 4124 2465 5...      2       901\n",
       "3      4562 4893 2210 4761 3659 1324 2595 5949 4583 2...      3      3786\n",
       "4      4269 7134 2614 1724 4464 1324 3370 3370 2106 2...      4       316\n",
       "...                                                  ...    ...       ...\n",
       "49995  3725 4498 2282 1647 6293 4245 4498 3615 1141 2...  49995       275\n",
       "49996  4811 465 3800 1394 3038 2376 2327 5165 3070 57...  49996       858\n",
       "49997  5338 1952 3117 4109 299 6656 6654 3792 6831 21...  49997       299\n",
       "49998  893 3469 5775 584 2490 4223 6569 6663 2124 168...  49998       470\n",
       "49999  2400 4409 4412 2210 5122 4464 7186 2465 1327 9...  49999       245\n",
       "\n",
       "[50000 rows x 3 columns]"
      ]
     },
     "execution_count": 11,
     "metadata": {},
     "output_type": "execute_result"
    }
   ],
   "source": [
    "test_df_cp"
   ]
  },
  {
   "cell_type": "code",
   "execution_count": 12,
   "metadata": {
    "ExecuteTime": {
     "end_time": "2020-08-27T18:52:59.378646Z",
     "start_time": "2020-08-27T18:52:53.955053Z"
    }
   },
   "outputs": [],
   "source": [
    "test_df_cp['text_ls'] = test_df_cp['text'].apply(lambda x: np.array(x.split(' ')))"
   ]
  },
  {
   "cell_type": "code",
   "execution_count": 13,
   "metadata": {
    "ExecuteTime": {
     "end_time": "2020-08-27T18:52:59.454523Z",
     "start_time": "2020-08-27T18:52:59.427828Z"
    }
   },
   "outputs": [
    {
     "data": {
      "text/html": [
       "<div>\n",
       "<style scoped>\n",
       "    .dataframe tbody tr th:only-of-type {\n",
       "        vertical-align: middle;\n",
       "    }\n",
       "\n",
       "    .dataframe tbody tr th {\n",
       "        vertical-align: top;\n",
       "    }\n",
       "\n",
       "    .dataframe thead th {\n",
       "        text-align: right;\n",
       "    }\n",
       "</style>\n",
       "<table border=\"1\" class=\"dataframe\">\n",
       "  <thead>\n",
       "    <tr style=\"text-align: right;\">\n",
       "      <th></th>\n",
       "      <th>text</th>\n",
       "      <th>id</th>\n",
       "      <th>text_len</th>\n",
       "      <th>text_ls</th>\n",
       "    </tr>\n",
       "  </thead>\n",
       "  <tbody>\n",
       "    <tr>\n",
       "      <th>0</th>\n",
       "      <td>5399 3117 1070 4321 4568 2621 5466 3772 4516 2...</td>\n",
       "      <td>0</td>\n",
       "      <td>607</td>\n",
       "      <td>[5399, 3117, 1070, 4321, 4568, 2621, 5466, 377...</td>\n",
       "    </tr>\n",
       "    <tr>\n",
       "      <th>1</th>\n",
       "      <td>2491 4109 1757 7539 648 3695 3038 4490 23 7019...</td>\n",
       "      <td>1</td>\n",
       "      <td>1861</td>\n",
       "      <td>[2491, 4109, 1757, 7539, 648, 3695, 3038, 4490...</td>\n",
       "    </tr>\n",
       "    <tr>\n",
       "      <th>2</th>\n",
       "      <td>2673 5076 6835 2835 5948 5677 3247 4124 2465 5...</td>\n",
       "      <td>2</td>\n",
       "      <td>901</td>\n",
       "      <td>[2673, 5076, 6835, 2835, 5948, 5677, 3247, 412...</td>\n",
       "    </tr>\n",
       "    <tr>\n",
       "      <th>3</th>\n",
       "      <td>4562 4893 2210 4761 3659 1324 2595 5949 4583 2...</td>\n",
       "      <td>3</td>\n",
       "      <td>3786</td>\n",
       "      <td>[4562, 4893, 2210, 4761, 3659, 1324, 2595, 594...</td>\n",
       "    </tr>\n",
       "    <tr>\n",
       "      <th>4</th>\n",
       "      <td>4269 7134 2614 1724 4464 1324 3370 3370 2106 2...</td>\n",
       "      <td>4</td>\n",
       "      <td>316</td>\n",
       "      <td>[4269, 7134, 2614, 1724, 4464, 1324, 3370, 337...</td>\n",
       "    </tr>\n",
       "    <tr>\n",
       "      <th>...</th>\n",
       "      <td>...</td>\n",
       "      <td>...</td>\n",
       "      <td>...</td>\n",
       "      <td>...</td>\n",
       "    </tr>\n",
       "    <tr>\n",
       "      <th>49995</th>\n",
       "      <td>3725 4498 2282 1647 6293 4245 4498 3615 1141 2...</td>\n",
       "      <td>49995</td>\n",
       "      <td>275</td>\n",
       "      <td>[3725, 4498, 2282, 1647, 6293, 4245, 4498, 361...</td>\n",
       "    </tr>\n",
       "    <tr>\n",
       "      <th>49996</th>\n",
       "      <td>4811 465 3800 1394 3038 2376 2327 5165 3070 57...</td>\n",
       "      <td>49996</td>\n",
       "      <td>858</td>\n",
       "      <td>[4811, 465, 3800, 1394, 3038, 2376, 2327, 5165...</td>\n",
       "    </tr>\n",
       "    <tr>\n",
       "      <th>49997</th>\n",
       "      <td>5338 1952 3117 4109 299 6656 6654 3792 6831 21...</td>\n",
       "      <td>49997</td>\n",
       "      <td>299</td>\n",
       "      <td>[5338, 1952, 3117, 4109, 299, 6656, 6654, 3792...</td>\n",
       "    </tr>\n",
       "    <tr>\n",
       "      <th>49998</th>\n",
       "      <td>893 3469 5775 584 2490 4223 6569 6663 2124 168...</td>\n",
       "      <td>49998</td>\n",
       "      <td>470</td>\n",
       "      <td>[893, 3469, 5775, 584, 2490, 4223, 6569, 6663,...</td>\n",
       "    </tr>\n",
       "    <tr>\n",
       "      <th>49999</th>\n",
       "      <td>2400 4409 4412 2210 5122 4464 7186 2465 1327 9...</td>\n",
       "      <td>49999</td>\n",
       "      <td>245</td>\n",
       "      <td>[2400, 4409, 4412, 2210, 5122, 4464, 7186, 246...</td>\n",
       "    </tr>\n",
       "  </tbody>\n",
       "</table>\n",
       "<p>50000 rows × 4 columns</p>\n",
       "</div>"
      ],
      "text/plain": [
       "                                                    text     id  text_len  \\\n",
       "0      5399 3117 1070 4321 4568 2621 5466 3772 4516 2...      0       607   \n",
       "1      2491 4109 1757 7539 648 3695 3038 4490 23 7019...      1      1861   \n",
       "2      2673 5076 6835 2835 5948 5677 3247 4124 2465 5...      2       901   \n",
       "3      4562 4893 2210 4761 3659 1324 2595 5949 4583 2...      3      3786   \n",
       "4      4269 7134 2614 1724 4464 1324 3370 3370 2106 2...      4       316   \n",
       "...                                                  ...    ...       ...   \n",
       "49995  3725 4498 2282 1647 6293 4245 4498 3615 1141 2...  49995       275   \n",
       "49996  4811 465 3800 1394 3038 2376 2327 5165 3070 57...  49996       858   \n",
       "49997  5338 1952 3117 4109 299 6656 6654 3792 6831 21...  49997       299   \n",
       "49998  893 3469 5775 584 2490 4223 6569 6663 2124 168...  49998       470   \n",
       "49999  2400 4409 4412 2210 5122 4464 7186 2465 1327 9...  49999       245   \n",
       "\n",
       "                                                 text_ls  \n",
       "0      [5399, 3117, 1070, 4321, 4568, 2621, 5466, 377...  \n",
       "1      [2491, 4109, 1757, 7539, 648, 3695, 3038, 4490...  \n",
       "2      [2673, 5076, 6835, 2835, 5948, 5677, 3247, 412...  \n",
       "3      [4562, 4893, 2210, 4761, 3659, 1324, 2595, 594...  \n",
       "4      [4269, 7134, 2614, 1724, 4464, 1324, 3370, 337...  \n",
       "...                                                  ...  \n",
       "49995  [3725, 4498, 2282, 1647, 6293, 4245, 4498, 361...  \n",
       "49996  [4811, 465, 3800, 1394, 3038, 2376, 2327, 5165...  \n",
       "49997  [5338, 1952, 3117, 4109, 299, 6656, 6654, 3792...  \n",
       "49998  [893, 3469, 5775, 584, 2490, 4223, 6569, 6663,...  \n",
       "49999  [2400, 4409, 4412, 2210, 5122, 4464, 7186, 246...  \n",
       "\n",
       "[50000 rows x 4 columns]"
      ]
     },
     "execution_count": 13,
     "metadata": {},
     "output_type": "execute_result"
    }
   ],
   "source": [
    "test_df_cp"
   ]
  },
  {
   "cell_type": "code",
   "execution_count": 14,
   "metadata": {
    "ExecuteTime": {
     "end_time": "2020-08-27T18:52:59.510242Z",
     "start_time": "2020-08-27T18:52:59.502038Z"
    }
   },
   "outputs": [],
   "source": [
    "from tqdm import tqdm\n",
    "add_tf = pd.DataFrame()\n",
    "max_segment_length = 256"
   ]
  },
  {
   "cell_type": "code",
   "execution_count": 19,
   "metadata": {
    "ExecuteTime": {
     "end_time": "2020-08-27T20:45:09.905779Z",
     "start_time": "2020-08-27T19:08:55.909363Z"
    }
   },
   "outputs": [
    {
     "name": "stderr",
     "output_type": "stream",
     "text": [
      "100%|██████████| 50000/50000 [1:36:13<00:00,  8.66it/s]  \n"
     ]
    }
   ],
   "source": [
    "for index, row in tqdm(test_df_cp.iterrows(), total=50000 ):\n",
    "    txid = row['id']\n",
    "    text = row['text_ls']\n",
    "    text_len = row['text_len']\n",
    "    \n",
    "    idx = list(range(0, text_len, max_segment_length))\n",
    "    \n",
    "    other_len = text_len % max_segment_length\n",
    "    if other_len > max_segment_length / 2:\n",
    "        idx.append(text_len)\n",
    "    \n",
    "    for i in range(len(idx) - 1):\n",
    "        segment = text[idx[i]: idx[i+1]]\n",
    "        segdata = {\"id\":txid,\"text\":segment}\n",
    "        add_tf = add_tf.append(segdata,ignore_index=True)"
   ]
  },
  {
   "cell_type": "code",
   "execution_count": 16,
   "metadata": {
    "ExecuteTime": {
     "end_time": "2020-08-27T19:08:08.754414Z",
     "start_time": "2020-08-27T19:08:08.743924Z"
    }
   },
   "outputs": [],
   "source": [
    "add_tf_cp =add_tf.copy()"
   ]
  },
  {
   "cell_type": "code",
   "execution_count": 17,
   "metadata": {
    "ExecuteTime": {
     "end_time": "2020-08-27T19:08:09.870385Z",
     "start_time": "2020-08-27T19:08:09.852752Z"
    }
   },
   "outputs": [
    {
     "data": {
      "text/html": [
       "<div>\n",
       "<style scoped>\n",
       "    .dataframe tbody tr th:only-of-type {\n",
       "        vertical-align: middle;\n",
       "    }\n",
       "\n",
       "    .dataframe tbody tr th {\n",
       "        vertical-align: top;\n",
       "    }\n",
       "\n",
       "    .dataframe thead th {\n",
       "        text-align: right;\n",
       "    }\n",
       "</style>\n",
       "<table border=\"1\" class=\"dataframe\">\n",
       "  <thead>\n",
       "    <tr style=\"text-align: right;\">\n",
       "      <th></th>\n",
       "      <th>id</th>\n",
       "      <th>text</th>\n",
       "    </tr>\n",
       "  </thead>\n",
       "  <tbody>\n",
       "    <tr>\n",
       "      <th>0</th>\n",
       "      <td>&lt;built-in function id&gt;</td>\n",
       "      <td>[5399, 3117, 1070, 4321, 4568, 2621, 5466, 377...</td>\n",
       "    </tr>\n",
       "    <tr>\n",
       "      <th>1</th>\n",
       "      <td>&lt;built-in function id&gt;</td>\n",
       "      <td>[4700, 6662, 3018, 5957, 6656, 2477, 648, 7543...</td>\n",
       "    </tr>\n",
       "    <tr>\n",
       "      <th>2</th>\n",
       "      <td>&lt;built-in function id&gt;</td>\n",
       "      <td>[2491, 4109, 1757, 7539, 648, 3695, 3038, 4490...</td>\n",
       "    </tr>\n",
       "    <tr>\n",
       "      <th>3</th>\n",
       "      <td>&lt;built-in function id&gt;</td>\n",
       "      <td>[4269, 4704, 2522, 5948, 3335, 3310, 900, 1985...</td>\n",
       "    </tr>\n",
       "    <tr>\n",
       "      <th>4</th>\n",
       "      <td>&lt;built-in function id&gt;</td>\n",
       "      <td>[6093, 5998, 1903, 4921, 531, 648, 2729, 5310,...</td>\n",
       "    </tr>\n",
       "  </tbody>\n",
       "</table>\n",
       "</div>"
      ],
      "text/plain": [
       "                       id                                               text\n",
       "0  <built-in function id>  [5399, 3117, 1070, 4321, 4568, 2621, 5466, 377...\n",
       "1  <built-in function id>  [4700, 6662, 3018, 5957, 6656, 2477, 648, 7543...\n",
       "2  <built-in function id>  [2491, 4109, 1757, 7539, 648, 3695, 3038, 4490...\n",
       "3  <built-in function id>  [4269, 4704, 2522, 5948, 3335, 3310, 900, 1985...\n",
       "4  <built-in function id>  [6093, 5998, 1903, 4921, 531, 648, 2729, 5310,..."
      ]
     },
     "execution_count": 17,
     "metadata": {},
     "output_type": "execute_result"
    }
   ],
   "source": [
    "add_tf.head()"
   ]
  },
  {
   "cell_type": "code",
   "execution_count": 18,
   "metadata": {
    "ExecuteTime": {
     "end_time": "2020-08-27T19:08:14.287532Z",
     "start_time": "2020-08-27T19:08:14.252571Z"
    }
   },
   "outputs": [
    {
     "data": {
      "text/html": [
       "<div>\n",
       "<style scoped>\n",
       "    .dataframe tbody tr th:only-of-type {\n",
       "        vertical-align: middle;\n",
       "    }\n",
       "\n",
       "    .dataframe tbody tr th {\n",
       "        vertical-align: top;\n",
       "    }\n",
       "\n",
       "    .dataframe thead th {\n",
       "        text-align: right;\n",
       "    }\n",
       "</style>\n",
       "<table border=\"1\" class=\"dataframe\">\n",
       "  <thead>\n",
       "    <tr style=\"text-align: right;\">\n",
       "      <th></th>\n",
       "      <th>id</th>\n",
       "      <th>text</th>\n",
       "    </tr>\n",
       "  </thead>\n",
       "  <tbody>\n",
       "    <tr>\n",
       "      <th>0</th>\n",
       "      <td>&lt;built-in function id&gt;</td>\n",
       "      <td>[5399, 3117, 1070, 4321, 4568, 2621, 5466, 377...</td>\n",
       "    </tr>\n",
       "    <tr>\n",
       "      <th>1</th>\n",
       "      <td>&lt;built-in function id&gt;</td>\n",
       "      <td>[4700, 6662, 3018, 5957, 6656, 2477, 648, 7543...</td>\n",
       "    </tr>\n",
       "    <tr>\n",
       "      <th>2</th>\n",
       "      <td>&lt;built-in function id&gt;</td>\n",
       "      <td>[2491, 4109, 1757, 7539, 648, 3695, 3038, 4490...</td>\n",
       "    </tr>\n",
       "    <tr>\n",
       "      <th>3</th>\n",
       "      <td>&lt;built-in function id&gt;</td>\n",
       "      <td>[4269, 4704, 2522, 5948, 3335, 3310, 900, 1985...</td>\n",
       "    </tr>\n",
       "    <tr>\n",
       "      <th>4</th>\n",
       "      <td>&lt;built-in function id&gt;</td>\n",
       "      <td>[6093, 5998, 1903, 4921, 531, 648, 2729, 5310,...</td>\n",
       "    </tr>\n",
       "    <tr>\n",
       "      <th>...</th>\n",
       "      <td>...</td>\n",
       "      <td>...</td>\n",
       "    </tr>\n",
       "    <tr>\n",
       "      <th>177344</th>\n",
       "      <td>&lt;built-in function id&gt;</td>\n",
       "      <td>[1375, 5393, 669, 3800, 4811, 7509, 4151, 4293...</td>\n",
       "    </tr>\n",
       "    <tr>\n",
       "      <th>177345</th>\n",
       "      <td>&lt;built-in function id&gt;</td>\n",
       "      <td>[5338, 1952, 3117, 4109, 299, 6656, 6654, 3792...</td>\n",
       "    </tr>\n",
       "    <tr>\n",
       "      <th>177346</th>\n",
       "      <td>&lt;built-in function id&gt;</td>\n",
       "      <td>[893, 3469, 5775, 584, 2490, 4223, 6569, 6663,...</td>\n",
       "    </tr>\n",
       "    <tr>\n",
       "      <th>177347</th>\n",
       "      <td>&lt;built-in function id&gt;</td>\n",
       "      <td>[7387, 394, 4811, 803, 1351, 5718, 4278, 4893,...</td>\n",
       "    </tr>\n",
       "    <tr>\n",
       "      <th>177348</th>\n",
       "      <td>&lt;built-in function id&gt;</td>\n",
       "      <td>[2400, 4409, 4412, 2210, 5122, 4464, 7186, 246...</td>\n",
       "    </tr>\n",
       "  </tbody>\n",
       "</table>\n",
       "<p>177349 rows × 2 columns</p>\n",
       "</div>"
      ],
      "text/plain": [
       "                            id  \\\n",
       "0       <built-in function id>   \n",
       "1       <built-in function id>   \n",
       "2       <built-in function id>   \n",
       "3       <built-in function id>   \n",
       "4       <built-in function id>   \n",
       "...                        ...   \n",
       "177344  <built-in function id>   \n",
       "177345  <built-in function id>   \n",
       "177346  <built-in function id>   \n",
       "177347  <built-in function id>   \n",
       "177348  <built-in function id>   \n",
       "\n",
       "                                                     text  \n",
       "0       [5399, 3117, 1070, 4321, 4568, 2621, 5466, 377...  \n",
       "1       [4700, 6662, 3018, 5957, 6656, 2477, 648, 7543...  \n",
       "2       [2491, 4109, 1757, 7539, 648, 3695, 3038, 4490...  \n",
       "3       [4269, 4704, 2522, 5948, 3335, 3310, 900, 1985...  \n",
       "4       [6093, 5998, 1903, 4921, 531, 648, 2729, 5310,...  \n",
       "...                                                   ...  \n",
       "177344  [1375, 5393, 669, 3800, 4811, 7509, 4151, 4293...  \n",
       "177345  [5338, 1952, 3117, 4109, 299, 6656, 6654, 3792...  \n",
       "177346  [893, 3469, 5775, 584, 2490, 4223, 6569, 6663,...  \n",
       "177347  [7387, 394, 4811, 803, 1351, 5718, 4278, 4893,...  \n",
       "177348  [2400, 4409, 4412, 2210, 5122, 4464, 7186, 246...  \n",
       "\n",
       "[177349 rows x 2 columns]"
      ]
     },
     "execution_count": 18,
     "metadata": {},
     "output_type": "execute_result"
    }
   ],
   "source": [
    "add_tf"
   ]
  },
  {
   "cell_type": "code",
   "execution_count": null,
   "metadata": {},
   "outputs": [],
   "source": []
  },
  {
   "cell_type": "code",
   "execution_count": 56,
   "metadata": {
    "ExecuteTime": {
     "end_time": "2020-08-26T20:01:12.983495Z",
     "start_time": "2020-08-26T20:01:07.004052Z"
    }
   },
   "outputs": [],
   "source": [
    "add_tf['text'] = add_tf['text'].apply(lambda x: ' '.join(x))"
   ]
  },
  {
   "cell_type": "code",
   "execution_count": null,
   "metadata": {},
   "outputs": [],
   "source": [
    "add_tf = add_tf.reindex(columns=['id','text'])"
   ]
  },
  {
   "cell_type": "code",
   "execution_count": 57,
   "metadata": {
    "ExecuteTime": {
     "end_time": "2020-08-26T20:01:14.053728Z",
     "start_time": "2020-08-26T20:01:14.043754Z"
    }
   },
   "outputs": [
    {
     "data": {
      "text/html": [
       "<div>\n",
       "<style scoped>\n",
       "    .dataframe tbody tr th:only-of-type {\n",
       "        vertical-align: middle;\n",
       "    }\n",
       "\n",
       "    .dataframe tbody tr th {\n",
       "        vertical-align: top;\n",
       "    }\n",
       "\n",
       "    .dataframe thead th {\n",
       "        text-align: right;\n",
       "    }\n",
       "</style>\n",
       "<table border=\"1\" class=\"dataframe\">\n",
       "  <thead>\n",
       "    <tr style=\"text-align: right;\">\n",
       "      <th></th>\n",
       "      <th>label</th>\n",
       "      <th>text</th>\n",
       "    </tr>\n",
       "  </thead>\n",
       "  <tbody>\n",
       "    <tr>\n",
       "      <th>0</th>\n",
       "      <td>7.0</td>\n",
       "      <td>6242 2484 3750 307 619 3937 2674 3335 3019 648...</td>\n",
       "    </tr>\n",
       "    <tr>\n",
       "      <th>1</th>\n",
       "      <td>4.0</td>\n",
       "      <td>6122 2595 2169 5566 4333 3750 465 299 4464 446...</td>\n",
       "    </tr>\n",
       "    <tr>\n",
       "      <th>2</th>\n",
       "      <td>4.0</td>\n",
       "      <td>2210 4671 5864 3750 2490 5998 4464 3370 2035 2...</td>\n",
       "    </tr>\n",
       "    <tr>\n",
       "      <th>3</th>\n",
       "      <td>4.0</td>\n",
       "      <td>2446 3750 669 4490 5977 6017 5998 3007 5166 35...</td>\n",
       "    </tr>\n",
       "    <tr>\n",
       "      <th>4</th>\n",
       "      <td>7.0</td>\n",
       "      <td>1324 7186 7055 7251 5513 4464 3659 3370 4464 5...</td>\n",
       "    </tr>\n",
       "    <tr>\n",
       "      <th>...</th>\n",
       "      <td>...</td>\n",
       "      <td>...</td>\n",
       "    </tr>\n",
       "    <tr>\n",
       "      <th>96207</th>\n",
       "      <td>4.0</td>\n",
       "      <td>1635 1899 1401 141 781 1618 4893 2444 5028 375...</td>\n",
       "    </tr>\n",
       "    <tr>\n",
       "      <th>96208</th>\n",
       "      <td>4.0</td>\n",
       "      <td>62 7486 2205 3800 6835 5330 1695 5526 5560 489...</td>\n",
       "    </tr>\n",
       "    <tr>\n",
       "      <th>96209</th>\n",
       "      <td>4.0</td>\n",
       "      <td>812 2769 5623 6760 5560 2990 623 812 7532 4933...</td>\n",
       "    </tr>\n",
       "    <tr>\n",
       "      <th>96210</th>\n",
       "      <td>4.0</td>\n",
       "      <td>3750 64 812 2769 3813 5780 4151 4293 648 4941 ...</td>\n",
       "    </tr>\n",
       "    <tr>\n",
       "      <th>96211</th>\n",
       "      <td>4.0</td>\n",
       "      <td>3750 2983 6831 2466 2115 2282 3859 1815 6833 3...</td>\n",
       "    </tr>\n",
       "  </tbody>\n",
       "</table>\n",
       "<p>96212 rows × 2 columns</p>\n",
       "</div>"
      ],
      "text/plain": [
       "       label                                               text\n",
       "0        7.0  6242 2484 3750 307 619 3937 2674 3335 3019 648...\n",
       "1        4.0  6122 2595 2169 5566 4333 3750 465 299 4464 446...\n",
       "2        4.0  2210 4671 5864 3750 2490 5998 4464 3370 2035 2...\n",
       "3        4.0  2446 3750 669 4490 5977 6017 5998 3007 5166 35...\n",
       "4        7.0  1324 7186 7055 7251 5513 4464 3659 3370 4464 5...\n",
       "...      ...                                                ...\n",
       "96207    4.0  1635 1899 1401 141 781 1618 4893 2444 5028 375...\n",
       "96208    4.0  62 7486 2205 3800 6835 5330 1695 5526 5560 489...\n",
       "96209    4.0  812 2769 5623 6760 5560 2990 623 812 7532 4933...\n",
       "96210    4.0  3750 64 812 2769 3813 5780 4151 4293 648 4941 ...\n",
       "96211    4.0  3750 2983 6831 2466 2115 2282 3859 1815 6833 3...\n",
       "\n",
       "[96212 rows x 2 columns]"
      ]
     },
     "execution_count": 57,
     "metadata": {},
     "output_type": "execute_result"
    }
   ],
   "source": [
    "add_tf"
   ]
  },
  {
   "cell_type": "code",
   "execution_count": 61,
   "metadata": {
    "ExecuteTime": {
     "end_time": "2020-08-26T20:02:08.658307Z",
     "start_time": "2020-08-26T20:01:48.607661Z"
    }
   },
   "outputs": [],
   "source": [
    "add_tf.to_csv('./testplus.csv', sep='\\t',index=False)"
   ]
  },
  {
   "cell_type": "code",
   "execution_count": null,
   "metadata": {},
   "outputs": [],
   "source": []
  }
 ],
 "metadata": {
  "kernelspec": {
   "display_name": "Python 3",
   "language": "python",
   "name": "python3"
  },
  "language_info": {
   "codemirror_mode": {
    "name": "ipython",
    "version": 3
   },
   "file_extension": ".py",
   "mimetype": "text/x-python",
   "name": "python",
   "nbconvert_exporter": "python",
   "pygments_lexer": "ipython3",
   "version": "3.6.10"
  },
  "toc": {
   "base_numbering": 1,
   "nav_menu": {},
   "number_sections": true,
   "sideBar": true,
   "skip_h1_title": false,
   "title_cell": "Table of Contents",
   "title_sidebar": "Contents",
   "toc_cell": false,
   "toc_position": {},
   "toc_section_display": true,
   "toc_window_display": false
  },
  "varInspector": {
   "cols": {
    "lenName": 16,
    "lenType": 16,
    "lenVar": 40
   },
   "kernels_config": {
    "python": {
     "delete_cmd_postfix": "",
     "delete_cmd_prefix": "del ",
     "library": "var_list.py",
     "varRefreshCmd": "print(var_dic_list())"
    },
    "r": {
     "delete_cmd_postfix": ") ",
     "delete_cmd_prefix": "rm(",
     "library": "var_list.r",
     "varRefreshCmd": "cat(var_dic_list()) "
    }
   },
   "types_to_exclude": [
    "module",
    "function",
    "builtin_function_or_method",
    "instance",
    "_Feature"
   ],
   "window_display": false
  }
 },
 "nbformat": 4,
 "nbformat_minor": 4
}
