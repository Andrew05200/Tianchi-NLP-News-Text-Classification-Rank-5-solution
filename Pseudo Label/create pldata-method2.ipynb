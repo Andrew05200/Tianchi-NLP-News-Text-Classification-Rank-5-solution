{
 "cells": [
  {
   "cell_type": "code",
   "execution_count": 1,
   "metadata": {
    "ExecuteTime": {
     "end_time": "2020-08-27T21:29:37.493064Z",
     "start_time": "2020-08-27T21:29:37.268140Z"
    }
   },
   "outputs": [],
   "source": [
    "import pandas as pd\n",
    "import numpy as np\n",
    "\n",
    "from IPython.core.interactiveshell import InteractiveShell\n",
    "InteractiveShell.ast_node_interactivity = \"all\""
   ]
  },
  {
   "cell_type": "code",
   "execution_count": 2,
   "metadata": {
    "ExecuteTime": {
     "end_time": "2020-08-27T21:29:39.127062Z",
     "start_time": "2020-08-27T21:29:37.495074Z"
    }
   },
   "outputs": [],
   "source": [
    "test_df = pd.read_csv('./test_a.csv', sep='\\t', nrows=None)"
   ]
  },
  {
   "cell_type": "code",
   "execution_count": 3,
   "metadata": {
    "ExecuteTime": {
     "end_time": "2020-08-27T21:29:39.147600Z",
     "start_time": "2020-08-27T21:29:39.130432Z"
    }
   },
   "outputs": [
    {
     "data": {
      "text/html": [
       "<div>\n",
       "<style scoped>\n",
       "    .dataframe tbody tr th:only-of-type {\n",
       "        vertical-align: middle;\n",
       "    }\n",
       "\n",
       "    .dataframe tbody tr th {\n",
       "        vertical-align: top;\n",
       "    }\n",
       "\n",
       "    .dataframe thead th {\n",
       "        text-align: right;\n",
       "    }\n",
       "</style>\n",
       "<table border=\"1\" class=\"dataframe\">\n",
       "  <thead>\n",
       "    <tr style=\"text-align: right;\">\n",
       "      <th></th>\n",
       "      <th>text</th>\n",
       "    </tr>\n",
       "  </thead>\n",
       "  <tbody>\n",
       "    <tr>\n",
       "      <th>0</th>\n",
       "      <td>5399 3117 1070 4321 4568 2621 5466 3772 4516 2...</td>\n",
       "    </tr>\n",
       "    <tr>\n",
       "      <th>1</th>\n",
       "      <td>2491 4109 1757 7539 648 3695 3038 4490 23 7019...</td>\n",
       "    </tr>\n",
       "    <tr>\n",
       "      <th>2</th>\n",
       "      <td>2673 5076 6835 2835 5948 5677 3247 4124 2465 5...</td>\n",
       "    </tr>\n",
       "    <tr>\n",
       "      <th>3</th>\n",
       "      <td>4562 4893 2210 4761 3659 1324 2595 5949 4583 2...</td>\n",
       "    </tr>\n",
       "    <tr>\n",
       "      <th>4</th>\n",
       "      <td>4269 7134 2614 1724 4464 1324 3370 3370 2106 2...</td>\n",
       "    </tr>\n",
       "  </tbody>\n",
       "</table>\n",
       "</div>"
      ],
      "text/plain": [
       "                                                text\n",
       "0  5399 3117 1070 4321 4568 2621 5466 3772 4516 2...\n",
       "1  2491 4109 1757 7539 648 3695 3038 4490 23 7019...\n",
       "2  2673 5076 6835 2835 5948 5677 3247 4124 2465 5...\n",
       "3  4562 4893 2210 4761 3659 1324 2595 5949 4583 2...\n",
       "4  4269 7134 2614 1724 4464 1324 3370 3370 2106 2..."
      ]
     },
     "execution_count": 3,
     "metadata": {},
     "output_type": "execute_result"
    }
   ],
   "source": [
    "test_df.head()"
   ]
  },
  {
   "cell_type": "code",
   "execution_count": 4,
   "metadata": {
    "ExecuteTime": {
     "end_time": "2020-08-27T21:29:39.159927Z",
     "start_time": "2020-08-27T21:29:39.149869Z"
    }
   },
   "outputs": [],
   "source": [
    "#增加索引列\n",
    "test_df['id'] = range(len(test_df))"
   ]
  },
  {
   "cell_type": "code",
   "execution_count": 5,
   "metadata": {
    "ExecuteTime": {
     "end_time": "2020-08-27T21:29:39.173370Z",
     "start_time": "2020-08-27T21:29:39.161490Z"
    }
   },
   "outputs": [],
   "source": [
    "x = set(test_df['id'].tolist())"
   ]
  },
  {
   "cell_type": "code",
   "execution_count": 6,
   "metadata": {
    "ExecuteTime": {
     "end_time": "2020-08-27T21:29:39.184345Z",
     "start_time": "2020-08-27T21:29:39.174936Z"
    }
   },
   "outputs": [
    {
     "data": {
      "text/plain": [
       "50000"
      ]
     },
     "execution_count": 6,
     "metadata": {},
     "output_type": "execute_result"
    }
   ],
   "source": [
    "len(x)"
   ]
  },
  {
   "cell_type": "code",
   "execution_count": 7,
   "metadata": {
    "ExecuteTime": {
     "end_time": "2020-08-27T21:29:39.200603Z",
     "start_time": "2020-08-27T21:29:39.186110Z"
    }
   },
   "outputs": [
    {
     "data": {
      "text/html": [
       "<div>\n",
       "<style scoped>\n",
       "    .dataframe tbody tr th:only-of-type {\n",
       "        vertical-align: middle;\n",
       "    }\n",
       "\n",
       "    .dataframe tbody tr th {\n",
       "        vertical-align: top;\n",
       "    }\n",
       "\n",
       "    .dataframe thead th {\n",
       "        text-align: right;\n",
       "    }\n",
       "</style>\n",
       "<table border=\"1\" class=\"dataframe\">\n",
       "  <thead>\n",
       "    <tr style=\"text-align: right;\">\n",
       "      <th></th>\n",
       "      <th>text</th>\n",
       "      <th>id</th>\n",
       "    </tr>\n",
       "  </thead>\n",
       "  <tbody>\n",
       "    <tr>\n",
       "      <th>0</th>\n",
       "      <td>5399 3117 1070 4321 4568 2621 5466 3772 4516 2...</td>\n",
       "      <td>0</td>\n",
       "    </tr>\n",
       "    <tr>\n",
       "      <th>1</th>\n",
       "      <td>2491 4109 1757 7539 648 3695 3038 4490 23 7019...</td>\n",
       "      <td>1</td>\n",
       "    </tr>\n",
       "    <tr>\n",
       "      <th>2</th>\n",
       "      <td>2673 5076 6835 2835 5948 5677 3247 4124 2465 5...</td>\n",
       "      <td>2</td>\n",
       "    </tr>\n",
       "    <tr>\n",
       "      <th>3</th>\n",
       "      <td>4562 4893 2210 4761 3659 1324 2595 5949 4583 2...</td>\n",
       "      <td>3</td>\n",
       "    </tr>\n",
       "    <tr>\n",
       "      <th>4</th>\n",
       "      <td>4269 7134 2614 1724 4464 1324 3370 3370 2106 2...</td>\n",
       "      <td>4</td>\n",
       "    </tr>\n",
       "    <tr>\n",
       "      <th>...</th>\n",
       "      <td>...</td>\n",
       "      <td>...</td>\n",
       "    </tr>\n",
       "    <tr>\n",
       "      <th>49995</th>\n",
       "      <td>3725 4498 2282 1647 6293 4245 4498 3615 1141 2...</td>\n",
       "      <td>49995</td>\n",
       "    </tr>\n",
       "    <tr>\n",
       "      <th>49996</th>\n",
       "      <td>4811 465 3800 1394 3038 2376 2327 5165 3070 57...</td>\n",
       "      <td>49996</td>\n",
       "    </tr>\n",
       "    <tr>\n",
       "      <th>49997</th>\n",
       "      <td>5338 1952 3117 4109 299 6656 6654 3792 6831 21...</td>\n",
       "      <td>49997</td>\n",
       "    </tr>\n",
       "    <tr>\n",
       "      <th>49998</th>\n",
       "      <td>893 3469 5775 584 2490 4223 6569 6663 2124 168...</td>\n",
       "      <td>49998</td>\n",
       "    </tr>\n",
       "    <tr>\n",
       "      <th>49999</th>\n",
       "      <td>2400 4409 4412 2210 5122 4464 7186 2465 1327 9...</td>\n",
       "      <td>49999</td>\n",
       "    </tr>\n",
       "  </tbody>\n",
       "</table>\n",
       "<p>50000 rows × 2 columns</p>\n",
       "</div>"
      ],
      "text/plain": [
       "                                                    text     id\n",
       "0      5399 3117 1070 4321 4568 2621 5466 3772 4516 2...      0\n",
       "1      2491 4109 1757 7539 648 3695 3038 4490 23 7019...      1\n",
       "2      2673 5076 6835 2835 5948 5677 3247 4124 2465 5...      2\n",
       "3      4562 4893 2210 4761 3659 1324 2595 5949 4583 2...      3\n",
       "4      4269 7134 2614 1724 4464 1324 3370 3370 2106 2...      4\n",
       "...                                                  ...    ...\n",
       "49995  3725 4498 2282 1647 6293 4245 4498 3615 1141 2...  49995\n",
       "49996  4811 465 3800 1394 3038 2376 2327 5165 3070 57...  49996\n",
       "49997  5338 1952 3117 4109 299 6656 6654 3792 6831 21...  49997\n",
       "49998  893 3469 5775 584 2490 4223 6569 6663 2124 168...  49998\n",
       "49999  2400 4409 4412 2210 5122 4464 7186 2465 1327 9...  49999\n",
       "\n",
       "[50000 rows x 2 columns]"
      ]
     },
     "execution_count": 7,
     "metadata": {},
     "output_type": "execute_result"
    }
   ],
   "source": [
    "test_df"
   ]
  },
  {
   "cell_type": "code",
   "execution_count": 8,
   "metadata": {
    "ExecuteTime": {
     "end_time": "2020-08-27T21:29:40.732158Z",
     "start_time": "2020-08-27T21:29:39.204415Z"
    }
   },
   "outputs": [],
   "source": [
    "# 统计每类新闻字符个数\n",
    "test_df['text_len'] = test_df['text'].apply(lambda x: len(x.split(' ')))"
   ]
  },
  {
   "cell_type": "code",
   "execution_count": 9,
   "metadata": {
    "ExecuteTime": {
     "end_time": "2020-08-27T21:29:40.746635Z",
     "start_time": "2020-08-27T21:29:40.735205Z"
    }
   },
   "outputs": [
    {
     "data": {
      "text/html": [
       "<div>\n",
       "<style scoped>\n",
       "    .dataframe tbody tr th:only-of-type {\n",
       "        vertical-align: middle;\n",
       "    }\n",
       "\n",
       "    .dataframe tbody tr th {\n",
       "        vertical-align: top;\n",
       "    }\n",
       "\n",
       "    .dataframe thead th {\n",
       "        text-align: right;\n",
       "    }\n",
       "</style>\n",
       "<table border=\"1\" class=\"dataframe\">\n",
       "  <thead>\n",
       "    <tr style=\"text-align: right;\">\n",
       "      <th></th>\n",
       "      <th>text</th>\n",
       "      <th>id</th>\n",
       "      <th>text_len</th>\n",
       "    </tr>\n",
       "  </thead>\n",
       "  <tbody>\n",
       "    <tr>\n",
       "      <th>0</th>\n",
       "      <td>5399 3117 1070 4321 4568 2621 5466 3772 4516 2...</td>\n",
       "      <td>0</td>\n",
       "      <td>607</td>\n",
       "    </tr>\n",
       "    <tr>\n",
       "      <th>1</th>\n",
       "      <td>2491 4109 1757 7539 648 3695 3038 4490 23 7019...</td>\n",
       "      <td>1</td>\n",
       "      <td>1861</td>\n",
       "    </tr>\n",
       "    <tr>\n",
       "      <th>2</th>\n",
       "      <td>2673 5076 6835 2835 5948 5677 3247 4124 2465 5...</td>\n",
       "      <td>2</td>\n",
       "      <td>901</td>\n",
       "    </tr>\n",
       "    <tr>\n",
       "      <th>3</th>\n",
       "      <td>4562 4893 2210 4761 3659 1324 2595 5949 4583 2...</td>\n",
       "      <td>3</td>\n",
       "      <td>3786</td>\n",
       "    </tr>\n",
       "    <tr>\n",
       "      <th>4</th>\n",
       "      <td>4269 7134 2614 1724 4464 1324 3370 3370 2106 2...</td>\n",
       "      <td>4</td>\n",
       "      <td>316</td>\n",
       "    </tr>\n",
       "    <tr>\n",
       "      <th>...</th>\n",
       "      <td>...</td>\n",
       "      <td>...</td>\n",
       "      <td>...</td>\n",
       "    </tr>\n",
       "    <tr>\n",
       "      <th>49995</th>\n",
       "      <td>3725 4498 2282 1647 6293 4245 4498 3615 1141 2...</td>\n",
       "      <td>49995</td>\n",
       "      <td>275</td>\n",
       "    </tr>\n",
       "    <tr>\n",
       "      <th>49996</th>\n",
       "      <td>4811 465 3800 1394 3038 2376 2327 5165 3070 57...</td>\n",
       "      <td>49996</td>\n",
       "      <td>858</td>\n",
       "    </tr>\n",
       "    <tr>\n",
       "      <th>49997</th>\n",
       "      <td>5338 1952 3117 4109 299 6656 6654 3792 6831 21...</td>\n",
       "      <td>49997</td>\n",
       "      <td>299</td>\n",
       "    </tr>\n",
       "    <tr>\n",
       "      <th>49998</th>\n",
       "      <td>893 3469 5775 584 2490 4223 6569 6663 2124 168...</td>\n",
       "      <td>49998</td>\n",
       "      <td>470</td>\n",
       "    </tr>\n",
       "    <tr>\n",
       "      <th>49999</th>\n",
       "      <td>2400 4409 4412 2210 5122 4464 7186 2465 1327 9...</td>\n",
       "      <td>49999</td>\n",
       "      <td>245</td>\n",
       "    </tr>\n",
       "  </tbody>\n",
       "</table>\n",
       "<p>50000 rows × 3 columns</p>\n",
       "</div>"
      ],
      "text/plain": [
       "                                                    text     id  text_len\n",
       "0      5399 3117 1070 4321 4568 2621 5466 3772 4516 2...      0       607\n",
       "1      2491 4109 1757 7539 648 3695 3038 4490 23 7019...      1      1861\n",
       "2      2673 5076 6835 2835 5948 5677 3247 4124 2465 5...      2       901\n",
       "3      4562 4893 2210 4761 3659 1324 2595 5949 4583 2...      3      3786\n",
       "4      4269 7134 2614 1724 4464 1324 3370 3370 2106 2...      4       316\n",
       "...                                                  ...    ...       ...\n",
       "49995  3725 4498 2282 1647 6293 4245 4498 3615 1141 2...  49995       275\n",
       "49996  4811 465 3800 1394 3038 2376 2327 5165 3070 57...  49996       858\n",
       "49997  5338 1952 3117 4109 299 6656 6654 3792 6831 21...  49997       299\n",
       "49998  893 3469 5775 584 2490 4223 6569 6663 2124 168...  49998       470\n",
       "49999  2400 4409 4412 2210 5122 4464 7186 2465 1327 9...  49999       245\n",
       "\n",
       "[50000 rows x 3 columns]"
      ]
     },
     "execution_count": 9,
     "metadata": {},
     "output_type": "execute_result"
    }
   ],
   "source": [
    "test_df"
   ]
  },
  {
   "cell_type": "code",
   "execution_count": 10,
   "metadata": {
    "ExecuteTime": {
     "end_time": "2020-08-27T21:29:40.763578Z",
     "start_time": "2020-08-27T21:29:40.748788Z"
    }
   },
   "outputs": [
    {
     "data": {
      "text/plain": [
       "count    50000.000000\n",
       "mean       909.844960\n",
       "std       1032.313375\n",
       "min         14.000000\n",
       "25%        370.000000\n",
       "50%        676.000000\n",
       "75%       1133.000000\n",
       "max      41861.000000\n",
       "Name: text_len, dtype: float64"
      ]
     },
     "execution_count": 10,
     "metadata": {},
     "output_type": "execute_result"
    }
   ],
   "source": [
    "test_df['text_len'].describe()\n",
    "#最短14"
   ]
  },
  {
   "cell_type": "code",
   "execution_count": 11,
   "metadata": {
    "ExecuteTime": {
     "end_time": "2020-08-27T21:29:40.777304Z",
     "start_time": "2020-08-27T21:29:40.765952Z"
    }
   },
   "outputs": [
    {
     "data": {
      "text/html": [
       "<div>\n",
       "<style scoped>\n",
       "    .dataframe tbody tr th:only-of-type {\n",
       "        vertical-align: middle;\n",
       "    }\n",
       "\n",
       "    .dataframe tbody tr th {\n",
       "        vertical-align: top;\n",
       "    }\n",
       "\n",
       "    .dataframe thead th {\n",
       "        text-align: right;\n",
       "    }\n",
       "</style>\n",
       "<table border=\"1\" class=\"dataframe\">\n",
       "  <thead>\n",
       "    <tr style=\"text-align: right;\">\n",
       "      <th></th>\n",
       "      <th>text</th>\n",
       "      <th>id</th>\n",
       "      <th>text_len</th>\n",
       "    </tr>\n",
       "  </thead>\n",
       "  <tbody>\n",
       "    <tr>\n",
       "      <th>649</th>\n",
       "      <td>2289 6357 2109 4139 248 3193 4595 1148 3397 30...</td>\n",
       "      <td>649</td>\n",
       "      <td>14</td>\n",
       "    </tr>\n",
       "    <tr>\n",
       "      <th>5081</th>\n",
       "      <td>3366 6407 932 2848 2400 3870 3242 2685 4490 42...</td>\n",
       "      <td>5081</td>\n",
       "      <td>14</td>\n",
       "    </tr>\n",
       "    <tr>\n",
       "      <th>39409</th>\n",
       "      <td>1141 473 1407 4802 7539 3961 1227 2380 5689 68...</td>\n",
       "      <td>39409</td>\n",
       "      <td>14</td>\n",
       "    </tr>\n",
       "  </tbody>\n",
       "</table>\n",
       "</div>"
      ],
      "text/plain": [
       "                                                    text     id  text_len\n",
       "649    2289 6357 2109 4139 248 3193 4595 1148 3397 30...    649        14\n",
       "5081   3366 6407 932 2848 2400 3870 3242 2685 4490 42...   5081        14\n",
       "39409  1141 473 1407 4802 7539 3961 1227 2380 5689 68...  39409        14"
      ]
     },
     "execution_count": 11,
     "metadata": {},
     "output_type": "execute_result"
    }
   ],
   "source": [
    "test_df[test_df['text_len']==14]"
   ]
  },
  {
   "cell_type": "code",
   "execution_count": 12,
   "metadata": {
    "ExecuteTime": {
     "end_time": "2020-08-27T21:29:40.787037Z",
     "start_time": "2020-08-27T21:29:40.779230Z"
    }
   },
   "outputs": [
    {
     "data": {
      "text/html": [
       "<div>\n",
       "<style scoped>\n",
       "    .dataframe tbody tr th:only-of-type {\n",
       "        vertical-align: middle;\n",
       "    }\n",
       "\n",
       "    .dataframe tbody tr th {\n",
       "        vertical-align: top;\n",
       "    }\n",
       "\n",
       "    .dataframe thead th {\n",
       "        text-align: right;\n",
       "    }\n",
       "</style>\n",
       "<table border=\"1\" class=\"dataframe\">\n",
       "  <thead>\n",
       "    <tr style=\"text-align: right;\">\n",
       "      <th></th>\n",
       "      <th>text</th>\n",
       "      <th>id</th>\n",
       "      <th>text_len</th>\n",
       "    </tr>\n",
       "  </thead>\n",
       "  <tbody>\n",
       "    <tr>\n",
       "      <th>469</th>\n",
       "      <td>2851 2119 5226 4301 1018 3586 7539 5589 1667 4...</td>\n",
       "      <td>469</td>\n",
       "      <td>256</td>\n",
       "    </tr>\n",
       "  </tbody>\n",
       "</table>\n",
       "</div>"
      ],
      "text/plain": [
       "                                                  text   id  text_len\n",
       "469  2851 2119 5226 4301 1018 3586 7539 5589 1667 4...  469       256"
      ]
     },
     "execution_count": 12,
     "metadata": {},
     "output_type": "execute_result"
    }
   ],
   "source": [
    "test_df[test_df['id']==469]"
   ]
  },
  {
   "cell_type": "code",
   "execution_count": 13,
   "metadata": {
    "ExecuteTime": {
     "end_time": "2020-08-27T21:29:40.800063Z",
     "start_time": "2020-08-27T21:29:40.789126Z"
    }
   },
   "outputs": [
    {
     "data": {
      "text/html": [
       "<div>\n",
       "<style scoped>\n",
       "    .dataframe tbody tr th:only-of-type {\n",
       "        vertical-align: middle;\n",
       "    }\n",
       "\n",
       "    .dataframe tbody tr th {\n",
       "        vertical-align: top;\n",
       "    }\n",
       "\n",
       "    .dataframe thead th {\n",
       "        text-align: right;\n",
       "    }\n",
       "</style>\n",
       "<table border=\"1\" class=\"dataframe\">\n",
       "  <thead>\n",
       "    <tr style=\"text-align: right;\">\n",
       "      <th></th>\n",
       "      <th>text</th>\n",
       "      <th>id</th>\n",
       "      <th>text_len</th>\n",
       "    </tr>\n",
       "  </thead>\n",
       "  <tbody>\n",
       "    <tr>\n",
       "      <th>6550</th>\n",
       "      <td>4139 5410 7539 1987 1334 5623 1397 7261 7408 6...</td>\n",
       "      <td>6550</td>\n",
       "      <td>1310</td>\n",
       "    </tr>\n",
       "  </tbody>\n",
       "</table>\n",
       "</div>"
      ],
      "text/plain": [
       "                                                   text    id  text_len\n",
       "6550  4139 5410 7539 1987 1334 5623 1397 7261 7408 6...  6550      1310"
      ]
     },
     "execution_count": 13,
     "metadata": {},
     "output_type": "execute_result"
    }
   ],
   "source": [
    "test_df[test_df['id']==6550]"
   ]
  },
  {
   "cell_type": "code",
   "execution_count": 34,
   "metadata": {
    "ExecuteTime": {
     "end_time": "2020-08-27T21:34:08.390990Z",
     "start_time": "2020-08-27T21:34:08.359805Z"
    }
   },
   "outputs": [
    {
     "data": {
      "text/html": [
       "<div>\n",
       "<style scoped>\n",
       "    .dataframe tbody tr th:only-of-type {\n",
       "        vertical-align: middle;\n",
       "    }\n",
       "\n",
       "    .dataframe tbody tr th {\n",
       "        vertical-align: top;\n",
       "    }\n",
       "\n",
       "    .dataframe thead th {\n",
       "        text-align: right;\n",
       "    }\n",
       "</style>\n",
       "<table border=\"1\" class=\"dataframe\">\n",
       "  <thead>\n",
       "    <tr style=\"text-align: right;\">\n",
       "      <th></th>\n",
       "      <th>text</th>\n",
       "      <th>id</th>\n",
       "      <th>text_len</th>\n",
       "    </tr>\n",
       "  </thead>\n",
       "  <tbody>\n",
       "    <tr>\n",
       "      <th>7799</th>\n",
       "      <td>1141 2828 5381 1388 6831 3396 7539 1141 2828 5...</td>\n",
       "      <td>7799</td>\n",
       "      <td>256</td>\n",
       "    </tr>\n",
       "  </tbody>\n",
       "</table>\n",
       "</div>"
      ],
      "text/plain": [
       "                                                   text    id  text_len\n",
       "7799  1141 2828 5381 1388 6831 3396 7539 1141 2828 5...  7799       256"
      ]
     },
     "execution_count": 34,
     "metadata": {},
     "output_type": "execute_result"
    },
    {
     "data": {
      "text/html": [
       "<div>\n",
       "<style scoped>\n",
       "    .dataframe tbody tr th:only-of-type {\n",
       "        vertical-align: middle;\n",
       "    }\n",
       "\n",
       "    .dataframe tbody tr th {\n",
       "        vertical-align: top;\n",
       "    }\n",
       "\n",
       "    .dataframe thead th {\n",
       "        text-align: right;\n",
       "    }\n",
       "</style>\n",
       "<table border=\"1\" class=\"dataframe\">\n",
       "  <thead>\n",
       "    <tr style=\"text-align: right;\">\n",
       "      <th></th>\n",
       "      <th>text</th>\n",
       "      <th>id</th>\n",
       "      <th>text_len</th>\n",
       "    </tr>\n",
       "  </thead>\n",
       "  <tbody>\n",
       "    <tr>\n",
       "      <th>7560</th>\n",
       "      <td>6501 3366 1363 1735 6663 1832 3772 6835 5296 7...</td>\n",
       "      <td>7560</td>\n",
       "      <td>256</td>\n",
       "    </tr>\n",
       "  </tbody>\n",
       "</table>\n",
       "</div>"
      ],
      "text/plain": [
       "                                                   text    id  text_len\n",
       "7560  6501 3366 1363 1735 6663 1832 3772 6835 5296 7...  7560       256"
      ]
     },
     "execution_count": 34,
     "metadata": {},
     "output_type": "execute_result"
    },
    {
     "data": {
      "text/html": [
       "<div>\n",
       "<style scoped>\n",
       "    .dataframe tbody tr th:only-of-type {\n",
       "        vertical-align: middle;\n",
       "    }\n",
       "\n",
       "    .dataframe tbody tr th {\n",
       "        vertical-align: top;\n",
       "    }\n",
       "\n",
       "    .dataframe thead th {\n",
       "        text-align: right;\n",
       "    }\n",
       "</style>\n",
       "<table border=\"1\" class=\"dataframe\">\n",
       "  <thead>\n",
       "    <tr style=\"text-align: right;\">\n",
       "      <th></th>\n",
       "      <th>text</th>\n",
       "      <th>id</th>\n",
       "      <th>text_len</th>\n",
       "    </tr>\n",
       "  </thead>\n",
       "  <tbody>\n",
       "    <tr>\n",
       "      <th>18566</th>\n",
       "      <td>5562 2828 4559 2456 4490 3530 3312 6093 1699 1...</td>\n",
       "      <td>18566</td>\n",
       "      <td>256</td>\n",
       "    </tr>\n",
       "  </tbody>\n",
       "</table>\n",
       "</div>"
      ],
      "text/plain": [
       "                                                    text     id  text_len\n",
       "18566  5562 2828 4559 2456 4490 3530 3312 6093 1699 1...  18566       256"
      ]
     },
     "execution_count": 34,
     "metadata": {},
     "output_type": "execute_result"
    },
    {
     "data": {
      "text/html": [
       "<div>\n",
       "<style scoped>\n",
       "    .dataframe tbody tr th:only-of-type {\n",
       "        vertical-align: middle;\n",
       "    }\n",
       "\n",
       "    .dataframe tbody tr th {\n",
       "        vertical-align: top;\n",
       "    }\n",
       "\n",
       "    .dataframe thead th {\n",
       "        text-align: right;\n",
       "    }\n",
       "</style>\n",
       "<table border=\"1\" class=\"dataframe\">\n",
       "  <thead>\n",
       "    <tr style=\"text-align: right;\">\n",
       "      <th></th>\n",
       "      <th>text</th>\n",
       "      <th>id</th>\n",
       "      <th>text_len</th>\n",
       "    </tr>\n",
       "  </thead>\n",
       "  <tbody>\n",
       "    <tr>\n",
       "      <th>10801</th>\n",
       "      <td>7445 3151 307 5631 5096 2539 3661 5036 2364 22...</td>\n",
       "      <td>10801</td>\n",
       "      <td>2345</td>\n",
       "    </tr>\n",
       "  </tbody>\n",
       "</table>\n",
       "</div>"
      ],
      "text/plain": [
       "                                                    text     id  text_len\n",
       "10801  7445 3151 307 5631 5096 2539 3661 5036 2364 22...  10801      2345"
      ]
     },
     "execution_count": 34,
     "metadata": {},
     "output_type": "execute_result"
    }
   ],
   "source": [
    "test_df[test_df['id']==7799]\n",
    "test_df[test_df['id']==7560]\n",
    "test_df[test_df['id']==18566]\n",
    "test_df[test_df['id']==10801]"
   ]
  },
  {
   "cell_type": "code",
   "execution_count": 44,
   "metadata": {
    "ExecuteTime": {
     "end_time": "2020-08-27T21:49:59.542763Z",
     "start_time": "2020-08-27T21:49:59.538785Z"
    }
   },
   "outputs": [],
   "source": [
    "max_segment_length = 256\n",
    "text_len =512\n",
    "idx = list(range(0, text_len + 1, max_segment_length))\n",
    "\n",
    "other_len = text_len % max_segment_length\n",
    "#因为测试集最短为14， 所以min 14\n",
    "if other_len >= 14:\n",
    "    idx.append(text_len)"
   ]
  },
  {
   "cell_type": "code",
   "execution_count": 45,
   "metadata": {
    "ExecuteTime": {
     "end_time": "2020-08-27T21:49:59.680521Z",
     "start_time": "2020-08-27T21:49:59.676804Z"
    }
   },
   "outputs": [
    {
     "data": {
      "text/plain": [
       "[0, 256, 512]"
      ]
     },
     "execution_count": 45,
     "metadata": {},
     "output_type": "execute_result"
    }
   ],
   "source": [
    "idx"
   ]
  },
  {
   "cell_type": "code",
   "execution_count": null,
   "metadata": {},
   "outputs": [],
   "source": []
  },
  {
   "cell_type": "code",
   "execution_count": null,
   "metadata": {},
   "outputs": [],
   "source": []
  },
  {
   "cell_type": "code",
   "execution_count": null,
   "metadata": {},
   "outputs": [],
   "source": []
  },
  {
   "cell_type": "code",
   "execution_count": 37,
   "metadata": {
    "ExecuteTime": {
     "end_time": "2020-08-27T21:35:15.855989Z",
     "start_time": "2020-08-27T21:35:15.805671Z"
    }
   },
   "outputs": [],
   "source": [
    "test_df_cp = test_df.copy()"
   ]
  },
  {
   "cell_type": "code",
   "execution_count": 38,
   "metadata": {
    "ExecuteTime": {
     "end_time": "2020-08-27T21:35:26.079886Z",
     "start_time": "2020-08-27T21:35:26.064166Z"
    }
   },
   "outputs": [
    {
     "data": {
      "text/html": [
       "<div>\n",
       "<style scoped>\n",
       "    .dataframe tbody tr th:only-of-type {\n",
       "        vertical-align: middle;\n",
       "    }\n",
       "\n",
       "    .dataframe tbody tr th {\n",
       "        vertical-align: top;\n",
       "    }\n",
       "\n",
       "    .dataframe thead th {\n",
       "        text-align: right;\n",
       "    }\n",
       "</style>\n",
       "<table border=\"1\" class=\"dataframe\">\n",
       "  <thead>\n",
       "    <tr style=\"text-align: right;\">\n",
       "      <th></th>\n",
       "      <th>text</th>\n",
       "      <th>id</th>\n",
       "      <th>text_len</th>\n",
       "    </tr>\n",
       "  </thead>\n",
       "  <tbody>\n",
       "    <tr>\n",
       "      <th>0</th>\n",
       "      <td>5399 3117 1070 4321 4568 2621 5466 3772 4516 2...</td>\n",
       "      <td>0</td>\n",
       "      <td>607</td>\n",
       "    </tr>\n",
       "    <tr>\n",
       "      <th>1</th>\n",
       "      <td>2491 4109 1757 7539 648 3695 3038 4490 23 7019...</td>\n",
       "      <td>1</td>\n",
       "      <td>1861</td>\n",
       "    </tr>\n",
       "    <tr>\n",
       "      <th>2</th>\n",
       "      <td>2673 5076 6835 2835 5948 5677 3247 4124 2465 5...</td>\n",
       "      <td>2</td>\n",
       "      <td>901</td>\n",
       "    </tr>\n",
       "    <tr>\n",
       "      <th>3</th>\n",
       "      <td>4562 4893 2210 4761 3659 1324 2595 5949 4583 2...</td>\n",
       "      <td>3</td>\n",
       "      <td>3786</td>\n",
       "    </tr>\n",
       "    <tr>\n",
       "      <th>4</th>\n",
       "      <td>4269 7134 2614 1724 4464 1324 3370 3370 2106 2...</td>\n",
       "      <td>4</td>\n",
       "      <td>316</td>\n",
       "    </tr>\n",
       "    <tr>\n",
       "      <th>...</th>\n",
       "      <td>...</td>\n",
       "      <td>...</td>\n",
       "      <td>...</td>\n",
       "    </tr>\n",
       "    <tr>\n",
       "      <th>49995</th>\n",
       "      <td>3725 4498 2282 1647 6293 4245 4498 3615 1141 2...</td>\n",
       "      <td>49995</td>\n",
       "      <td>275</td>\n",
       "    </tr>\n",
       "    <tr>\n",
       "      <th>49996</th>\n",
       "      <td>4811 465 3800 1394 3038 2376 2327 5165 3070 57...</td>\n",
       "      <td>49996</td>\n",
       "      <td>858</td>\n",
       "    </tr>\n",
       "    <tr>\n",
       "      <th>49997</th>\n",
       "      <td>5338 1952 3117 4109 299 6656 6654 3792 6831 21...</td>\n",
       "      <td>49997</td>\n",
       "      <td>299</td>\n",
       "    </tr>\n",
       "    <tr>\n",
       "      <th>49998</th>\n",
       "      <td>893 3469 5775 584 2490 4223 6569 6663 2124 168...</td>\n",
       "      <td>49998</td>\n",
       "      <td>470</td>\n",
       "    </tr>\n",
       "    <tr>\n",
       "      <th>49999</th>\n",
       "      <td>2400 4409 4412 2210 5122 4464 7186 2465 1327 9...</td>\n",
       "      <td>49999</td>\n",
       "      <td>245</td>\n",
       "    </tr>\n",
       "  </tbody>\n",
       "</table>\n",
       "<p>50000 rows × 3 columns</p>\n",
       "</div>"
      ],
      "text/plain": [
       "                                                    text     id  text_len\n",
       "0      5399 3117 1070 4321 4568 2621 5466 3772 4516 2...      0       607\n",
       "1      2491 4109 1757 7539 648 3695 3038 4490 23 7019...      1      1861\n",
       "2      2673 5076 6835 2835 5948 5677 3247 4124 2465 5...      2       901\n",
       "3      4562 4893 2210 4761 3659 1324 2595 5949 4583 2...      3      3786\n",
       "4      4269 7134 2614 1724 4464 1324 3370 3370 2106 2...      4       316\n",
       "...                                                  ...    ...       ...\n",
       "49995  3725 4498 2282 1647 6293 4245 4498 3615 1141 2...  49995       275\n",
       "49996  4811 465 3800 1394 3038 2376 2327 5165 3070 57...  49996       858\n",
       "49997  5338 1952 3117 4109 299 6656 6654 3792 6831 21...  49997       299\n",
       "49998  893 3469 5775 584 2490 4223 6569 6663 2124 168...  49998       470\n",
       "49999  2400 4409 4412 2210 5122 4464 7186 2465 1327 9...  49999       245\n",
       "\n",
       "[50000 rows x 3 columns]"
      ]
     },
     "execution_count": 38,
     "metadata": {},
     "output_type": "execute_result"
    }
   ],
   "source": [
    "test_df_cp"
   ]
  },
  {
   "cell_type": "code",
   "execution_count": 39,
   "metadata": {
    "ExecuteTime": {
     "end_time": "2020-08-27T21:35:33.126779Z",
     "start_time": "2020-08-27T21:35:27.703903Z"
    }
   },
   "outputs": [],
   "source": [
    "test_df_cp['text_ls'] = test_df_cp['text'].apply(lambda x: np.array(x.split(' ')))"
   ]
  },
  {
   "cell_type": "code",
   "execution_count": 40,
   "metadata": {
    "ExecuteTime": {
     "end_time": "2020-08-27T21:35:33.241788Z",
     "start_time": "2020-08-27T21:35:33.218288Z"
    }
   },
   "outputs": [
    {
     "data": {
      "text/html": [
       "<div>\n",
       "<style scoped>\n",
       "    .dataframe tbody tr th:only-of-type {\n",
       "        vertical-align: middle;\n",
       "    }\n",
       "\n",
       "    .dataframe tbody tr th {\n",
       "        vertical-align: top;\n",
       "    }\n",
       "\n",
       "    .dataframe thead th {\n",
       "        text-align: right;\n",
       "    }\n",
       "</style>\n",
       "<table border=\"1\" class=\"dataframe\">\n",
       "  <thead>\n",
       "    <tr style=\"text-align: right;\">\n",
       "      <th></th>\n",
       "      <th>text</th>\n",
       "      <th>id</th>\n",
       "      <th>text_len</th>\n",
       "      <th>text_ls</th>\n",
       "    </tr>\n",
       "  </thead>\n",
       "  <tbody>\n",
       "    <tr>\n",
       "      <th>0</th>\n",
       "      <td>5399 3117 1070 4321 4568 2621 5466 3772 4516 2...</td>\n",
       "      <td>0</td>\n",
       "      <td>607</td>\n",
       "      <td>[5399, 3117, 1070, 4321, 4568, 2621, 5466, 377...</td>\n",
       "    </tr>\n",
       "    <tr>\n",
       "      <th>1</th>\n",
       "      <td>2491 4109 1757 7539 648 3695 3038 4490 23 7019...</td>\n",
       "      <td>1</td>\n",
       "      <td>1861</td>\n",
       "      <td>[2491, 4109, 1757, 7539, 648, 3695, 3038, 4490...</td>\n",
       "    </tr>\n",
       "    <tr>\n",
       "      <th>2</th>\n",
       "      <td>2673 5076 6835 2835 5948 5677 3247 4124 2465 5...</td>\n",
       "      <td>2</td>\n",
       "      <td>901</td>\n",
       "      <td>[2673, 5076, 6835, 2835, 5948, 5677, 3247, 412...</td>\n",
       "    </tr>\n",
       "    <tr>\n",
       "      <th>3</th>\n",
       "      <td>4562 4893 2210 4761 3659 1324 2595 5949 4583 2...</td>\n",
       "      <td>3</td>\n",
       "      <td>3786</td>\n",
       "      <td>[4562, 4893, 2210, 4761, 3659, 1324, 2595, 594...</td>\n",
       "    </tr>\n",
       "    <tr>\n",
       "      <th>4</th>\n",
       "      <td>4269 7134 2614 1724 4464 1324 3370 3370 2106 2...</td>\n",
       "      <td>4</td>\n",
       "      <td>316</td>\n",
       "      <td>[4269, 7134, 2614, 1724, 4464, 1324, 3370, 337...</td>\n",
       "    </tr>\n",
       "    <tr>\n",
       "      <th>...</th>\n",
       "      <td>...</td>\n",
       "      <td>...</td>\n",
       "      <td>...</td>\n",
       "      <td>...</td>\n",
       "    </tr>\n",
       "    <tr>\n",
       "      <th>49995</th>\n",
       "      <td>3725 4498 2282 1647 6293 4245 4498 3615 1141 2...</td>\n",
       "      <td>49995</td>\n",
       "      <td>275</td>\n",
       "      <td>[3725, 4498, 2282, 1647, 6293, 4245, 4498, 361...</td>\n",
       "    </tr>\n",
       "    <tr>\n",
       "      <th>49996</th>\n",
       "      <td>4811 465 3800 1394 3038 2376 2327 5165 3070 57...</td>\n",
       "      <td>49996</td>\n",
       "      <td>858</td>\n",
       "      <td>[4811, 465, 3800, 1394, 3038, 2376, 2327, 5165...</td>\n",
       "    </tr>\n",
       "    <tr>\n",
       "      <th>49997</th>\n",
       "      <td>5338 1952 3117 4109 299 6656 6654 3792 6831 21...</td>\n",
       "      <td>49997</td>\n",
       "      <td>299</td>\n",
       "      <td>[5338, 1952, 3117, 4109, 299, 6656, 6654, 3792...</td>\n",
       "    </tr>\n",
       "    <tr>\n",
       "      <th>49998</th>\n",
       "      <td>893 3469 5775 584 2490 4223 6569 6663 2124 168...</td>\n",
       "      <td>49998</td>\n",
       "      <td>470</td>\n",
       "      <td>[893, 3469, 5775, 584, 2490, 4223, 6569, 6663,...</td>\n",
       "    </tr>\n",
       "    <tr>\n",
       "      <th>49999</th>\n",
       "      <td>2400 4409 4412 2210 5122 4464 7186 2465 1327 9...</td>\n",
       "      <td>49999</td>\n",
       "      <td>245</td>\n",
       "      <td>[2400, 4409, 4412, 2210, 5122, 4464, 7186, 246...</td>\n",
       "    </tr>\n",
       "  </tbody>\n",
       "</table>\n",
       "<p>50000 rows × 4 columns</p>\n",
       "</div>"
      ],
      "text/plain": [
       "                                                    text     id  text_len  \\\n",
       "0      5399 3117 1070 4321 4568 2621 5466 3772 4516 2...      0       607   \n",
       "1      2491 4109 1757 7539 648 3695 3038 4490 23 7019...      1      1861   \n",
       "2      2673 5076 6835 2835 5948 5677 3247 4124 2465 5...      2       901   \n",
       "3      4562 4893 2210 4761 3659 1324 2595 5949 4583 2...      3      3786   \n",
       "4      4269 7134 2614 1724 4464 1324 3370 3370 2106 2...      4       316   \n",
       "...                                                  ...    ...       ...   \n",
       "49995  3725 4498 2282 1647 6293 4245 4498 3615 1141 2...  49995       275   \n",
       "49996  4811 465 3800 1394 3038 2376 2327 5165 3070 57...  49996       858   \n",
       "49997  5338 1952 3117 4109 299 6656 6654 3792 6831 21...  49997       299   \n",
       "49998  893 3469 5775 584 2490 4223 6569 6663 2124 168...  49998       470   \n",
       "49999  2400 4409 4412 2210 5122 4464 7186 2465 1327 9...  49999       245   \n",
       "\n",
       "                                                 text_ls  \n",
       "0      [5399, 3117, 1070, 4321, 4568, 2621, 5466, 377...  \n",
       "1      [2491, 4109, 1757, 7539, 648, 3695, 3038, 4490...  \n",
       "2      [2673, 5076, 6835, 2835, 5948, 5677, 3247, 412...  \n",
       "3      [4562, 4893, 2210, 4761, 3659, 1324, 2595, 594...  \n",
       "4      [4269, 7134, 2614, 1724, 4464, 1324, 3370, 337...  \n",
       "...                                                  ...  \n",
       "49995  [3725, 4498, 2282, 1647, 6293, 4245, 4498, 361...  \n",
       "49996  [4811, 465, 3800, 1394, 3038, 2376, 2327, 5165...  \n",
       "49997  [5338, 1952, 3117, 4109, 299, 6656, 6654, 3792...  \n",
       "49998  [893, 3469, 5775, 584, 2490, 4223, 6569, 6663,...  \n",
       "49999  [2400, 4409, 4412, 2210, 5122, 4464, 7186, 246...  \n",
       "\n",
       "[50000 rows x 4 columns]"
      ]
     },
     "execution_count": 40,
     "metadata": {},
     "output_type": "execute_result"
    }
   ],
   "source": [
    "test_df_cp"
   ]
  },
  {
   "cell_type": "code",
   "execution_count": 41,
   "metadata": {
    "ExecuteTime": {
     "end_time": "2020-08-27T21:35:33.344397Z",
     "start_time": "2020-08-27T21:35:33.331331Z"
    }
   },
   "outputs": [
    {
     "data": {
      "text/html": [
       "<div>\n",
       "<style scoped>\n",
       "    .dataframe tbody tr th:only-of-type {\n",
       "        vertical-align: middle;\n",
       "    }\n",
       "\n",
       "    .dataframe tbody tr th {\n",
       "        vertical-align: top;\n",
       "    }\n",
       "\n",
       "    .dataframe thead th {\n",
       "        text-align: right;\n",
       "    }\n",
       "</style>\n",
       "<table border=\"1\" class=\"dataframe\">\n",
       "  <thead>\n",
       "    <tr style=\"text-align: right;\">\n",
       "      <th></th>\n",
       "      <th>text</th>\n",
       "      <th>id</th>\n",
       "      <th>text_len</th>\n",
       "      <th>text_ls</th>\n",
       "    </tr>\n",
       "  </thead>\n",
       "  <tbody>\n",
       "    <tr>\n",
       "      <th>649</th>\n",
       "      <td>2289 6357 2109 4139 248 3193 4595 1148 3397 30...</td>\n",
       "      <td>649</td>\n",
       "      <td>14</td>\n",
       "      <td>[2289, 6357, 2109, 4139, 248, 3193, 4595, 1148...</td>\n",
       "    </tr>\n",
       "    <tr>\n",
       "      <th>5081</th>\n",
       "      <td>3366 6407 932 2848 2400 3870 3242 2685 4490 42...</td>\n",
       "      <td>5081</td>\n",
       "      <td>14</td>\n",
       "      <td>[3366, 6407, 932, 2848, 2400, 3870, 3242, 2685...</td>\n",
       "    </tr>\n",
       "    <tr>\n",
       "      <th>39409</th>\n",
       "      <td>1141 473 1407 4802 7539 3961 1227 2380 5689 68...</td>\n",
       "      <td>39409</td>\n",
       "      <td>14</td>\n",
       "      <td>[1141, 473, 1407, 4802, 7539, 3961, 1227, 2380...</td>\n",
       "    </tr>\n",
       "  </tbody>\n",
       "</table>\n",
       "</div>"
      ],
      "text/plain": [
       "                                                    text     id  text_len  \\\n",
       "649    2289 6357 2109 4139 248 3193 4595 1148 3397 30...    649        14   \n",
       "5081   3366 6407 932 2848 2400 3870 3242 2685 4490 42...   5081        14   \n",
       "39409  1141 473 1407 4802 7539 3961 1227 2380 5689 68...  39409        14   \n",
       "\n",
       "                                                 text_ls  \n",
       "649    [2289, 6357, 2109, 4139, 248, 3193, 4595, 1148...  \n",
       "5081   [3366, 6407, 932, 2848, 2400, 3870, 3242, 2685...  \n",
       "39409  [1141, 473, 1407, 4802, 7539, 3961, 1227, 2380...  "
      ]
     },
     "execution_count": 41,
     "metadata": {},
     "output_type": "execute_result"
    }
   ],
   "source": [
    "test_df_cp[test_df_cp['text_len']==14]\n",
    "#长度为14的数据, 这是最短的数据"
   ]
  },
  {
   "cell_type": "code",
   "execution_count": 42,
   "metadata": {
    "ExecuteTime": {
     "end_time": "2020-08-27T21:35:36.212592Z",
     "start_time": "2020-08-27T21:35:36.199319Z"
    }
   },
   "outputs": [],
   "source": [
    "from tqdm import tqdm\n",
    "add_tf = pd.DataFrame()\n",
    "max_segment_length = 256"
   ]
  },
  {
   "cell_type": "code",
   "execution_count": 43,
   "metadata": {
    "ExecuteTime": {
     "end_time": "2020-08-27T21:49:59.373992Z",
     "start_time": "2020-08-27T21:35:42.388720Z"
    }
   },
   "outputs": [
    {
     "name": "stderr",
     "output_type": "stream",
     "text": [
      "100%|██████████| 50000/50000 [14:16<00:00, 58.35it/s] \n"
     ]
    }
   ],
   "source": [
    "for index, row in tqdm(test_df_cp.iterrows(), total=50000 ):\n",
    "    txid = row['id']\n",
    "    text = row['text_ls']\n",
    "    text_len = row['text_len']\n",
    "    \n",
    "    idx = list(range(0, text_len + 1, max_segment_length))\n",
    "    \n",
    "    other_len = text_len % max_segment_length\n",
    "    #因为测试集最短为14， 所以min 14\n",
    "    if other_len >= 14:\n",
    "        idx.append(text_len)\n",
    "    \n",
    "    for i in range(len(idx) - 1):\n",
    "        segment = text[idx[i]: idx[i+1]]\n",
    "        segdata = {\"id\":txid,\"text\":segment}\n",
    "        add_tf = add_tf.append(segdata,ignore_index=True)"
   ]
  },
  {
   "cell_type": "code",
   "execution_count": 46,
   "metadata": {
    "ExecuteTime": {
     "end_time": "2020-08-27T21:50:25.049129Z",
     "start_time": "2020-08-27T21:50:25.039571Z"
    }
   },
   "outputs": [],
   "source": [
    "add_tf_cp =add_tf.copy()"
   ]
  },
  {
   "cell_type": "code",
   "execution_count": 47,
   "metadata": {
    "ExecuteTime": {
     "end_time": "2020-08-27T21:50:26.365473Z",
     "start_time": "2020-08-27T21:50:26.348200Z"
    }
   },
   "outputs": [
    {
     "data": {
      "text/html": [
       "<div>\n",
       "<style scoped>\n",
       "    .dataframe tbody tr th:only-of-type {\n",
       "        vertical-align: middle;\n",
       "    }\n",
       "\n",
       "    .dataframe tbody tr th {\n",
       "        vertical-align: top;\n",
       "    }\n",
       "\n",
       "    .dataframe thead th {\n",
       "        text-align: right;\n",
       "    }\n",
       "</style>\n",
       "<table border=\"1\" class=\"dataframe\">\n",
       "  <thead>\n",
       "    <tr style=\"text-align: right;\">\n",
       "      <th></th>\n",
       "      <th>id</th>\n",
       "      <th>text</th>\n",
       "    </tr>\n",
       "  </thead>\n",
       "  <tbody>\n",
       "    <tr>\n",
       "      <th>0</th>\n",
       "      <td>0.0</td>\n",
       "      <td>[5399, 3117, 1070, 4321, 4568, 2621, 5466, 377...</td>\n",
       "    </tr>\n",
       "    <tr>\n",
       "      <th>1</th>\n",
       "      <td>0.0</td>\n",
       "      <td>[4700, 6662, 3018, 5957, 6656, 2477, 648, 7543...</td>\n",
       "    </tr>\n",
       "    <tr>\n",
       "      <th>2</th>\n",
       "      <td>0.0</td>\n",
       "      <td>[1511, 7467, 6065, 3370, 4230, 6644, 6065, 365...</td>\n",
       "    </tr>\n",
       "    <tr>\n",
       "      <th>3</th>\n",
       "      <td>1.0</td>\n",
       "      <td>[2491, 4109, 1757, 7539, 648, 3695, 3038, 4490...</td>\n",
       "    </tr>\n",
       "    <tr>\n",
       "      <th>4</th>\n",
       "      <td>1.0</td>\n",
       "      <td>[4269, 4704, 2522, 5948, 3335, 3310, 900, 1985...</td>\n",
       "    </tr>\n",
       "  </tbody>\n",
       "</table>\n",
       "</div>"
      ],
      "text/plain": [
       "    id                                               text\n",
       "0  0.0  [5399, 3117, 1070, 4321, 4568, 2621, 5466, 377...\n",
       "1  0.0  [4700, 6662, 3018, 5957, 6656, 2477, 648, 7543...\n",
       "2  0.0  [1511, 7467, 6065, 3370, 4230, 6644, 6065, 365...\n",
       "3  1.0  [2491, 4109, 1757, 7539, 648, 3695, 3038, 4490...\n",
       "4  1.0  [4269, 4704, 2522, 5948, 3335, 3310, 900, 1985..."
      ]
     },
     "execution_count": 47,
     "metadata": {},
     "output_type": "execute_result"
    }
   ],
   "source": [
    "add_tf.head()"
   ]
  },
  {
   "cell_type": "code",
   "execution_count": 48,
   "metadata": {
    "ExecuteTime": {
     "end_time": "2020-08-27T21:50:28.893793Z",
     "start_time": "2020-08-27T21:50:28.867694Z"
    }
   },
   "outputs": [
    {
     "data": {
      "text/html": [
       "<div>\n",
       "<style scoped>\n",
       "    .dataframe tbody tr th:only-of-type {\n",
       "        vertical-align: middle;\n",
       "    }\n",
       "\n",
       "    .dataframe tbody tr th {\n",
       "        vertical-align: top;\n",
       "    }\n",
       "\n",
       "    .dataframe thead th {\n",
       "        text-align: right;\n",
       "    }\n",
       "</style>\n",
       "<table border=\"1\" class=\"dataframe\">\n",
       "  <thead>\n",
       "    <tr style=\"text-align: right;\">\n",
       "      <th></th>\n",
       "      <th>id</th>\n",
       "      <th>text</th>\n",
       "    </tr>\n",
       "  </thead>\n",
       "  <tbody>\n",
       "    <tr>\n",
       "      <th>0</th>\n",
       "      <td>0.0</td>\n",
       "      <td>[5399, 3117, 1070, 4321, 4568, 2621, 5466, 377...</td>\n",
       "    </tr>\n",
       "    <tr>\n",
       "      <th>1</th>\n",
       "      <td>0.0</td>\n",
       "      <td>[4700, 6662, 3018, 5957, 6656, 2477, 648, 7543...</td>\n",
       "    </tr>\n",
       "    <tr>\n",
       "      <th>2</th>\n",
       "      <td>0.0</td>\n",
       "      <td>[1511, 7467, 6065, 3370, 4230, 6644, 6065, 365...</td>\n",
       "    </tr>\n",
       "    <tr>\n",
       "      <th>3</th>\n",
       "      <td>1.0</td>\n",
       "      <td>[2491, 4109, 1757, 7539, 648, 3695, 3038, 4490...</td>\n",
       "    </tr>\n",
       "    <tr>\n",
       "      <th>4</th>\n",
       "      <td>1.0</td>\n",
       "      <td>[4269, 4704, 2522, 5948, 3335, 3310, 900, 1985...</td>\n",
       "    </tr>\n",
       "    <tr>\n",
       "      <th>...</th>\n",
       "      <td>...</td>\n",
       "      <td>...</td>\n",
       "    </tr>\n",
       "    <tr>\n",
       "      <th>200289</th>\n",
       "      <td>49997.0</td>\n",
       "      <td>[5338, 1952, 3117, 4109, 299, 6656, 6654, 3792...</td>\n",
       "    </tr>\n",
       "    <tr>\n",
       "      <th>200290</th>\n",
       "      <td>49997.0</td>\n",
       "      <td>[433, 5410, 764, 7543, 5328, 1699, 803, 5909, ...</td>\n",
       "    </tr>\n",
       "    <tr>\n",
       "      <th>200291</th>\n",
       "      <td>49998.0</td>\n",
       "      <td>[893, 3469, 5775, 584, 2490, 4223, 6569, 6663,...</td>\n",
       "    </tr>\n",
       "    <tr>\n",
       "      <th>200292</th>\n",
       "      <td>49998.0</td>\n",
       "      <td>[7387, 394, 4811, 803, 1351, 5718, 4278, 4893,...</td>\n",
       "    </tr>\n",
       "    <tr>\n",
       "      <th>200293</th>\n",
       "      <td>49999.0</td>\n",
       "      <td>[2400, 4409, 4412, 2210, 5122, 4464, 7186, 246...</td>\n",
       "    </tr>\n",
       "  </tbody>\n",
       "</table>\n",
       "<p>200294 rows × 2 columns</p>\n",
       "</div>"
      ],
      "text/plain": [
       "             id                                               text\n",
       "0           0.0  [5399, 3117, 1070, 4321, 4568, 2621, 5466, 377...\n",
       "1           0.0  [4700, 6662, 3018, 5957, 6656, 2477, 648, 7543...\n",
       "2           0.0  [1511, 7467, 6065, 3370, 4230, 6644, 6065, 365...\n",
       "3           1.0  [2491, 4109, 1757, 7539, 648, 3695, 3038, 4490...\n",
       "4           1.0  [4269, 4704, 2522, 5948, 3335, 3310, 900, 1985...\n",
       "...         ...                                                ...\n",
       "200289  49997.0  [5338, 1952, 3117, 4109, 299, 6656, 6654, 3792...\n",
       "200290  49997.0  [433, 5410, 764, 7543, 5328, 1699, 803, 5909, ...\n",
       "200291  49998.0  [893, 3469, 5775, 584, 2490, 4223, 6569, 6663,...\n",
       "200292  49998.0  [7387, 394, 4811, 803, 1351, 5718, 4278, 4893,...\n",
       "200293  49999.0  [2400, 4409, 4412, 2210, 5122, 4464, 7186, 246...\n",
       "\n",
       "[200294 rows x 2 columns]"
      ]
     },
     "execution_count": 48,
     "metadata": {},
     "output_type": "execute_result"
    }
   ],
   "source": [
    "add_tf"
   ]
  },
  {
   "cell_type": "code",
   "execution_count": null,
   "metadata": {},
   "outputs": [],
   "source": []
  },
  {
   "cell_type": "code",
   "execution_count": 49,
   "metadata": {
    "ExecuteTime": {
     "end_time": "2020-08-27T21:50:44.999027Z",
     "start_time": "2020-08-27T21:50:32.618308Z"
    }
   },
   "outputs": [],
   "source": [
    "add_tf_cp['text'] = add_tf_cp['text'].apply(lambda x: ' '.join(x))"
   ]
  },
  {
   "cell_type": "code",
   "execution_count": 50,
   "metadata": {
    "ExecuteTime": {
     "end_time": "2020-08-27T21:50:45.156724Z",
     "start_time": "2020-08-27T21:50:45.146974Z"
    }
   },
   "outputs": [
    {
     "data": {
      "text/html": [
       "<div>\n",
       "<style scoped>\n",
       "    .dataframe tbody tr th:only-of-type {\n",
       "        vertical-align: middle;\n",
       "    }\n",
       "\n",
       "    .dataframe tbody tr th {\n",
       "        vertical-align: top;\n",
       "    }\n",
       "\n",
       "    .dataframe thead th {\n",
       "        text-align: right;\n",
       "    }\n",
       "</style>\n",
       "<table border=\"1\" class=\"dataframe\">\n",
       "  <thead>\n",
       "    <tr style=\"text-align: right;\">\n",
       "      <th></th>\n",
       "      <th>id</th>\n",
       "      <th>text</th>\n",
       "    </tr>\n",
       "  </thead>\n",
       "  <tbody>\n",
       "    <tr>\n",
       "      <th>0</th>\n",
       "      <td>0.0</td>\n",
       "      <td>5399 3117 1070 4321 4568 2621 5466 3772 4516 2...</td>\n",
       "    </tr>\n",
       "    <tr>\n",
       "      <th>1</th>\n",
       "      <td>0.0</td>\n",
       "      <td>4700 6662 3018 5957 6656 2477 648 7543 6930 22...</td>\n",
       "    </tr>\n",
       "    <tr>\n",
       "      <th>2</th>\n",
       "      <td>0.0</td>\n",
       "      <td>1511 7467 6065 3370 4230 6644 6065 3659 4230 1...</td>\n",
       "    </tr>\n",
       "    <tr>\n",
       "      <th>3</th>\n",
       "      <td>1.0</td>\n",
       "      <td>2491 4109 1757 7539 648 3695 3038 4490 23 7019...</td>\n",
       "    </tr>\n",
       "    <tr>\n",
       "      <th>4</th>\n",
       "      <td>1.0</td>\n",
       "      <td>4269 4704 2522 5948 3335 3310 900 1985 7194 75...</td>\n",
       "    </tr>\n",
       "    <tr>\n",
       "      <th>...</th>\n",
       "      <td>...</td>\n",
       "      <td>...</td>\n",
       "    </tr>\n",
       "    <tr>\n",
       "      <th>200289</th>\n",
       "      <td>49997.0</td>\n",
       "      <td>5338 1952 3117 4109 299 6656 6654 3792 6831 21...</td>\n",
       "    </tr>\n",
       "    <tr>\n",
       "      <th>200290</th>\n",
       "      <td>49997.0</td>\n",
       "      <td>433 5410 764 7543 5328 1699 803 5909 974 1635 ...</td>\n",
       "    </tr>\n",
       "    <tr>\n",
       "      <th>200291</th>\n",
       "      <td>49998.0</td>\n",
       "      <td>893 3469 5775 584 2490 4223 6569 6663 2124 168...</td>\n",
       "    </tr>\n",
       "    <tr>\n",
       "      <th>200292</th>\n",
       "      <td>49998.0</td>\n",
       "      <td>7387 394 4811 803 1351 5718 4278 4893 1635 452...</td>\n",
       "    </tr>\n",
       "    <tr>\n",
       "      <th>200293</th>\n",
       "      <td>49999.0</td>\n",
       "      <td>2400 4409 4412 2210 5122 4464 7186 2465 1327 9...</td>\n",
       "    </tr>\n",
       "  </tbody>\n",
       "</table>\n",
       "<p>200294 rows × 2 columns</p>\n",
       "</div>"
      ],
      "text/plain": [
       "             id                                               text\n",
       "0           0.0  5399 3117 1070 4321 4568 2621 5466 3772 4516 2...\n",
       "1           0.0  4700 6662 3018 5957 6656 2477 648 7543 6930 22...\n",
       "2           0.0  1511 7467 6065 3370 4230 6644 6065 3659 4230 1...\n",
       "3           1.0  2491 4109 1757 7539 648 3695 3038 4490 23 7019...\n",
       "4           1.0  4269 4704 2522 5948 3335 3310 900 1985 7194 75...\n",
       "...         ...                                                ...\n",
       "200289  49997.0  5338 1952 3117 4109 299 6656 6654 3792 6831 21...\n",
       "200290  49997.0  433 5410 764 7543 5328 1699 803 5909 974 1635 ...\n",
       "200291  49998.0  893 3469 5775 584 2490 4223 6569 6663 2124 168...\n",
       "200292  49998.0  7387 394 4811 803 1351 5718 4278 4893 1635 452...\n",
       "200293  49999.0  2400 4409 4412 2210 5122 4464 7186 2465 1327 9...\n",
       "\n",
       "[200294 rows x 2 columns]"
      ]
     },
     "execution_count": 50,
     "metadata": {},
     "output_type": "execute_result"
    }
   ],
   "source": [
    "add_tf_cp"
   ]
  },
  {
   "cell_type": "code",
   "execution_count": 24,
   "metadata": {
    "ExecuteTime": {
     "end_time": "2020-08-27T19:37:44.911872Z",
     "start_time": "2020-08-27T19:37:44.896812Z"
    }
   },
   "outputs": [
    {
     "data": {
      "text/html": [
       "<div>\n",
       "<style scoped>\n",
       "    .dataframe tbody tr th:only-of-type {\n",
       "        vertical-align: middle;\n",
       "    }\n",
       "\n",
       "    .dataframe tbody tr th {\n",
       "        vertical-align: top;\n",
       "    }\n",
       "\n",
       "    .dataframe thead th {\n",
       "        text-align: right;\n",
       "    }\n",
       "</style>\n",
       "<table border=\"1\" class=\"dataframe\">\n",
       "  <thead>\n",
       "    <tr style=\"text-align: right;\">\n",
       "      <th></th>\n",
       "      <th>id</th>\n",
       "      <th>text</th>\n",
       "    </tr>\n",
       "  </thead>\n",
       "  <tbody>\n",
       "    <tr>\n",
       "      <th>2548</th>\n",
       "      <td>649.0</td>\n",
       "      <td>2289 6357 2109 4139 248 3193 4595 1148 3397 30...</td>\n",
       "    </tr>\n",
       "  </tbody>\n",
       "</table>\n",
       "</div>"
      ],
      "text/plain": [
       "         id                                               text\n",
       "2548  649.0  2289 6357 2109 4139 248 3193 4595 1148 3397 30..."
      ]
     },
     "execution_count": 24,
     "metadata": {},
     "output_type": "execute_result"
    }
   ],
   "source": [
    "add_tf_cp[add_tf_cp['id']==649]"
   ]
  },
  {
   "cell_type": "code",
   "execution_count": 51,
   "metadata": {
    "ExecuteTime": {
     "end_time": "2020-08-27T21:51:09.538946Z",
     "start_time": "2020-08-27T21:51:09.524886Z"
    }
   },
   "outputs": [
    {
     "data": {
      "text/html": [
       "<div>\n",
       "<style scoped>\n",
       "    .dataframe tbody tr th:only-of-type {\n",
       "        vertical-align: middle;\n",
       "    }\n",
       "\n",
       "    .dataframe tbody tr th {\n",
       "        vertical-align: top;\n",
       "    }\n",
       "\n",
       "    .dataframe thead th {\n",
       "        text-align: right;\n",
       "    }\n",
       "</style>\n",
       "<table border=\"1\" class=\"dataframe\">\n",
       "  <thead>\n",
       "    <tr style=\"text-align: right;\">\n",
       "      <th></th>\n",
       "      <th>id</th>\n",
       "      <th>text</th>\n",
       "    </tr>\n",
       "  </thead>\n",
       "  <tbody>\n",
       "    <tr>\n",
       "      <th>20088</th>\n",
       "      <td>5081.0</td>\n",
       "      <td>3366 6407 932 2848 2400 3870 3242 2685 4490 42...</td>\n",
       "    </tr>\n",
       "  </tbody>\n",
       "</table>\n",
       "</div>"
      ],
      "text/plain": [
       "           id                                               text\n",
       "20088  5081.0  3366 6407 932 2848 2400 3870 3242 2685 4490 42..."
      ]
     },
     "execution_count": 51,
     "metadata": {},
     "output_type": "execute_result"
    }
   ],
   "source": [
    "add_tf_cp[add_tf_cp['id']==5081]"
   ]
  },
  {
   "cell_type": "code",
   "execution_count": 52,
   "metadata": {
    "ExecuteTime": {
     "end_time": "2020-08-27T21:51:12.260927Z",
     "start_time": "2020-08-27T21:51:12.247439Z"
    }
   },
   "outputs": [
    {
     "data": {
      "text/html": [
       "<div>\n",
       "<style scoped>\n",
       "    .dataframe tbody tr th:only-of-type {\n",
       "        vertical-align: middle;\n",
       "    }\n",
       "\n",
       "    .dataframe tbody tr th {\n",
       "        vertical-align: top;\n",
       "    }\n",
       "\n",
       "    .dataframe thead th {\n",
       "        text-align: right;\n",
       "    }\n",
       "</style>\n",
       "<table border=\"1\" class=\"dataframe\">\n",
       "  <thead>\n",
       "    <tr style=\"text-align: right;\">\n",
       "      <th></th>\n",
       "      <th>id</th>\n",
       "      <th>text</th>\n",
       "    </tr>\n",
       "  </thead>\n",
       "  <tbody>\n",
       "    <tr>\n",
       "      <th>1861</th>\n",
       "      <td>469.0</td>\n",
       "      <td>2851 2119 5226 4301 1018 3586 7539 5589 1667 4...</td>\n",
       "    </tr>\n",
       "  </tbody>\n",
       "</table>\n",
       "</div>"
      ],
      "text/plain": [
       "         id                                               text\n",
       "1861  469.0  2851 2119 5226 4301 1018 3586 7539 5589 1667 4..."
      ]
     },
     "execution_count": 52,
     "metadata": {},
     "output_type": "execute_result"
    }
   ],
   "source": [
    "#469不见了\n",
    "add_tf_cp[add_tf_cp['id']==469]"
   ]
  },
  {
   "cell_type": "code",
   "execution_count": 53,
   "metadata": {
    "ExecuteTime": {
     "end_time": "2020-08-27T21:51:25.934100Z",
     "start_time": "2020-08-27T21:51:25.908430Z"
    }
   },
   "outputs": [],
   "source": [
    "listadd=set(add_tf_cp['id'].tolist())"
   ]
  },
  {
   "cell_type": "code",
   "execution_count": 54,
   "metadata": {
    "ExecuteTime": {
     "end_time": "2020-08-27T21:51:27.718386Z",
     "start_time": "2020-08-27T21:51:27.713787Z"
    }
   },
   "outputs": [
    {
     "data": {
      "text/plain": [
       "50000"
      ]
     },
     "execution_count": 54,
     "metadata": {},
     "output_type": "execute_result"
    }
   ],
   "source": [
    "len(listadd)"
   ]
  },
  {
   "cell_type": "code",
   "execution_count": null,
   "metadata": {},
   "outputs": [],
   "source": []
  },
  {
   "cell_type": "code",
   "execution_count": null,
   "metadata": {},
   "outputs": [],
   "source": []
  },
  {
   "cell_type": "code",
   "execution_count": null,
   "metadata": {},
   "outputs": [],
   "source": []
  },
  {
   "cell_type": "code",
   "execution_count": null,
   "metadata": {},
   "outputs": [],
   "source": []
  },
  {
   "cell_type": "code",
   "execution_count": 55,
   "metadata": {
    "ExecuteTime": {
     "end_time": "2020-08-27T21:51:30.780901Z",
     "start_time": "2020-08-27T21:51:30.773841Z"
    }
   },
   "outputs": [],
   "source": [
    "add_tf_cp.id=add_tf_cp.id.astype(int)"
   ]
  },
  {
   "cell_type": "code",
   "execution_count": null,
   "metadata": {},
   "outputs": [],
   "source": []
  },
  {
   "cell_type": "code",
   "execution_count": 56,
   "metadata": {
    "ExecuteTime": {
     "end_time": "2020-08-27T21:51:33.742122Z",
     "start_time": "2020-08-27T21:51:33.738610Z"
    }
   },
   "outputs": [],
   "source": [
    "#add_tf_cp = add_tf_cp.reindex(columns=['id','text'])"
   ]
  },
  {
   "cell_type": "code",
   "execution_count": 57,
   "metadata": {
    "ExecuteTime": {
     "end_time": "2020-08-27T21:51:36.022611Z",
     "start_time": "2020-08-27T21:51:36.005906Z"
    }
   },
   "outputs": [
    {
     "data": {
      "text/html": [
       "<div>\n",
       "<style scoped>\n",
       "    .dataframe tbody tr th:only-of-type {\n",
       "        vertical-align: middle;\n",
       "    }\n",
       "\n",
       "    .dataframe tbody tr th {\n",
       "        vertical-align: top;\n",
       "    }\n",
       "\n",
       "    .dataframe thead th {\n",
       "        text-align: right;\n",
       "    }\n",
       "</style>\n",
       "<table border=\"1\" class=\"dataframe\">\n",
       "  <thead>\n",
       "    <tr style=\"text-align: right;\">\n",
       "      <th></th>\n",
       "      <th>id</th>\n",
       "      <th>text</th>\n",
       "    </tr>\n",
       "  </thead>\n",
       "  <tbody>\n",
       "    <tr>\n",
       "      <th>0</th>\n",
       "      <td>0</td>\n",
       "      <td>5399 3117 1070 4321 4568 2621 5466 3772 4516 2...</td>\n",
       "    </tr>\n",
       "    <tr>\n",
       "      <th>1</th>\n",
       "      <td>0</td>\n",
       "      <td>4700 6662 3018 5957 6656 2477 648 7543 6930 22...</td>\n",
       "    </tr>\n",
       "    <tr>\n",
       "      <th>2</th>\n",
       "      <td>0</td>\n",
       "      <td>1511 7467 6065 3370 4230 6644 6065 3659 4230 1...</td>\n",
       "    </tr>\n",
       "    <tr>\n",
       "      <th>3</th>\n",
       "      <td>1</td>\n",
       "      <td>2491 4109 1757 7539 648 3695 3038 4490 23 7019...</td>\n",
       "    </tr>\n",
       "    <tr>\n",
       "      <th>4</th>\n",
       "      <td>1</td>\n",
       "      <td>4269 4704 2522 5948 3335 3310 900 1985 7194 75...</td>\n",
       "    </tr>\n",
       "    <tr>\n",
       "      <th>...</th>\n",
       "      <td>...</td>\n",
       "      <td>...</td>\n",
       "    </tr>\n",
       "    <tr>\n",
       "      <th>200289</th>\n",
       "      <td>49997</td>\n",
       "      <td>5338 1952 3117 4109 299 6656 6654 3792 6831 21...</td>\n",
       "    </tr>\n",
       "    <tr>\n",
       "      <th>200290</th>\n",
       "      <td>49997</td>\n",
       "      <td>433 5410 764 7543 5328 1699 803 5909 974 1635 ...</td>\n",
       "    </tr>\n",
       "    <tr>\n",
       "      <th>200291</th>\n",
       "      <td>49998</td>\n",
       "      <td>893 3469 5775 584 2490 4223 6569 6663 2124 168...</td>\n",
       "    </tr>\n",
       "    <tr>\n",
       "      <th>200292</th>\n",
       "      <td>49998</td>\n",
       "      <td>7387 394 4811 803 1351 5718 4278 4893 1635 452...</td>\n",
       "    </tr>\n",
       "    <tr>\n",
       "      <th>200293</th>\n",
       "      <td>49999</td>\n",
       "      <td>2400 4409 4412 2210 5122 4464 7186 2465 1327 9...</td>\n",
       "    </tr>\n",
       "  </tbody>\n",
       "</table>\n",
       "<p>200294 rows × 2 columns</p>\n",
       "</div>"
      ],
      "text/plain": [
       "           id                                               text\n",
       "0           0  5399 3117 1070 4321 4568 2621 5466 3772 4516 2...\n",
       "1           0  4700 6662 3018 5957 6656 2477 648 7543 6930 22...\n",
       "2           0  1511 7467 6065 3370 4230 6644 6065 3659 4230 1...\n",
       "3           1  2491 4109 1757 7539 648 3695 3038 4490 23 7019...\n",
       "4           1  4269 4704 2522 5948 3335 3310 900 1985 7194 75...\n",
       "...       ...                                                ...\n",
       "200289  49997  5338 1952 3117 4109 299 6656 6654 3792 6831 21...\n",
       "200290  49997  433 5410 764 7543 5328 1699 803 5909 974 1635 ...\n",
       "200291  49998  893 3469 5775 584 2490 4223 6569 6663 2124 168...\n",
       "200292  49998  7387 394 4811 803 1351 5718 4278 4893 1635 452...\n",
       "200293  49999  2400 4409 4412 2210 5122 4464 7186 2465 1327 9...\n",
       "\n",
       "[200294 rows x 2 columns]"
      ]
     },
     "execution_count": 57,
     "metadata": {},
     "output_type": "execute_result"
    }
   ],
   "source": [
    "add_tf_cp"
   ]
  },
  {
   "cell_type": "code",
   "execution_count": 58,
   "metadata": {
    "ExecuteTime": {
     "end_time": "2020-08-27T21:51:45.355705Z",
     "start_time": "2020-08-27T21:51:41.215746Z"
    }
   },
   "outputs": [],
   "source": [
    "add_tf_cp.to_csv('./testplus.csv', sep='\\t',index=False)"
   ]
  },
  {
   "cell_type": "code",
   "execution_count": 29,
   "metadata": {
    "ExecuteTime": {
     "end_time": "2020-08-27T19:44:45.398544Z",
     "start_time": "2020-08-27T19:44:45.204382Z"
    }
   },
   "outputs": [
    {
     "name": "stdout",
     "output_type": "stream",
     "text": [
      "/home/nx296/kaggle/news/input\r\n"
     ]
    }
   ],
   "source": [
    "!pwd"
   ]
  },
  {
   "cell_type": "code",
   "execution_count": null,
   "metadata": {},
   "outputs": [],
   "source": []
  }
 ],
 "metadata": {
  "kernelspec": {
   "display_name": "Python 3",
   "language": "python",
   "name": "python3"
  },
  "language_info": {
   "codemirror_mode": {
    "name": "ipython",
    "version": 3
   },
   "file_extension": ".py",
   "mimetype": "text/x-python",
   "name": "python",
   "nbconvert_exporter": "python",
   "pygments_lexer": "ipython3",
   "version": "3.6.10"
  },
  "toc": {
   "base_numbering": 1,
   "nav_menu": {},
   "number_sections": true,
   "sideBar": true,
   "skip_h1_title": false,
   "title_cell": "Table of Contents",
   "title_sidebar": "Contents",
   "toc_cell": false,
   "toc_position": {},
   "toc_section_display": true,
   "toc_window_display": false
  },
  "varInspector": {
   "cols": {
    "lenName": 16,
    "lenType": 16,
    "lenVar": 40
   },
   "kernels_config": {
    "python": {
     "delete_cmd_postfix": "",
     "delete_cmd_prefix": "del ",
     "library": "var_list.py",
     "varRefreshCmd": "print(var_dic_list())"
    },
    "r": {
     "delete_cmd_postfix": ") ",
     "delete_cmd_prefix": "rm(",
     "library": "var_list.r",
     "varRefreshCmd": "cat(var_dic_list()) "
    }
   },
   "types_to_exclude": [
    "module",
    "function",
    "builtin_function_or_method",
    "instance",
    "_Feature"
   ],
   "window_display": false
  }
 },
 "nbformat": 4,
 "nbformat_minor": 4
}
